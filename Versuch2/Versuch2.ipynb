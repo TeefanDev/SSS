{
 "cells": [
  {
   "cell_type": "markdown",
   "id": "cfbd976b",
   "metadata": {},
   "source": [
    "# Versuch 2 - Kalibrierung von Digitalkameras\n",
    "\n",
    "Dominik Bartsch, Stefan Ptacek, Niklas Kaiser"
   ]
  },
  {
   "cell_type": "code",
   "execution_count": 1,
   "id": "31c6c2cb",
   "metadata": {},
   "outputs": [
    {
     "name": "stdout",
     "output_type": "stream",
     "text": [
      "Defaulting to user installation because normal site-packages is not writeable\n",
      "Requirement already satisfied: opencv-python in /home/dominik/.local/lib/python3.11/site-packages (4.8.1.78)\n",
      "Requirement already satisfied: numpy>=1.21.2 in /home/dominik/.local/lib/python3.11/site-packages (from opencv-python) (1.26.1)\n"
     ]
    }
   ],
   "source": [
    "!python -m pip install opencv-python\n",
    "import cv2\n",
    "import numpy as np"
   ]
  },
  {
   "cell_type": "markdown",
   "id": "aa2cce97",
   "metadata": {},
   "source": [
    "## 1. Aufnahme und Analyse eines Grauwertkeiles\n",
    "### 1.1 Einlesen der Werte aus der Kamera"
   ]
  },
  {
   "cell_type": "code",
   "execution_count": 4,
   "id": "fe46d376",
   "metadata": {},
   "outputs": [
    {
     "name": "stderr",
     "output_type": "stream",
     "text": [
      "[ WARN:0@11.575] global cap_v4l.cpp:982 open VIDEOIO(V4L2:/dev/video0): can't open camera by index\n",
      "[ERROR:0@11.575] global obsensor_uvc_stream_channel.cpp:156 getStreamChannelGroup Camera index out of range\n"
     ]
    },
    {
     "ename": "error",
     "evalue": "OpenCV(4.8.1) /io/opencv/modules/imgproc/src/color.cpp:182: error: (-215:Assertion failed) !_src.empty() in function 'cvtColor'\n",
     "output_type": "error",
     "traceback": [
      "\u001b[0;31m---------------------------------------------------------------------------\u001b[0m",
      "\u001b[0;31merror\u001b[0m                                     Traceback (most recent call last)",
      "Cell \u001b[0;32mIn[4], line 7\u001b[0m\n\u001b[1;32m      5\u001b[0m \u001b[38;5;28;01mfor\u001b[39;00m i \u001b[38;5;129;01min\u001b[39;00m \u001b[38;5;28mrange\u001b[39m(\u001b[38;5;241m10\u001b[39m):\n\u001b[1;32m      6\u001b[0m     ret, frame \u001b[38;5;241m=\u001b[39m cap\u001b[38;5;241m.\u001b[39mread()\n\u001b[0;32m----> 7\u001b[0m     gray \u001b[38;5;241m=\u001b[39m \u001b[43mcv2\u001b[49m\u001b[38;5;241;43m.\u001b[39;49m\u001b[43mcvtColor\u001b[49m\u001b[43m(\u001b[49m\u001b[43mframe\u001b[49m\u001b[43m,\u001b[49m\u001b[43m \u001b[49m\u001b[43mcv2\u001b[49m\u001b[38;5;241;43m.\u001b[39;49m\u001b[43mCOLOR_BGR2GRAY\u001b[49m\u001b[43m)\u001b[49m\n\u001b[1;32m      8\u001b[0m     cv2\u001b[38;5;241m.\u001b[39mimwrite(\u001b[38;5;124m\"\u001b[39m\u001b[38;5;124m./data/fix\u001b[39m\u001b[38;5;124m\"\u001b[39m \u001b[38;5;241m+\u001b[39m \u001b[38;5;28mstr\u001b[39m(i) \u001b[38;5;241m+\u001b[39m \u001b[38;5;124m\"\u001b[39m\u001b[38;5;124m.png\u001b[39m\u001b[38;5;124m\"\u001b[39m, gray)\n\u001b[1;32m     10\u001b[0m \u001b[38;5;28mprint\u001b[39m(\u001b[38;5;124m\"\u001b[39m\u001b[38;5;124mframe width: \u001b[39m\u001b[38;5;124m\"\u001b[39m \u001b[38;5;241m+\u001b[39m \u001b[38;5;28mstr\u001b[39m(cap\u001b[38;5;241m.\u001b[39mget(\u001b[38;5;241m3\u001b[39m)))\n",
      "\u001b[0;31merror\u001b[0m: OpenCV(4.8.1) /io/opencv/modules/imgproc/src/color.cpp:182: error: (-215:Assertion failed) !_src.empty() in function 'cvtColor'\n"
     ]
    }
   ],
   "source": [
    "# -------- Aufgabe1.1 -------- #\n",
    "\n",
    "cap = cv2.VideoCapture(0)\n",
    "\n",
    "for i in range(10):\n",
    "    ret, frame = cap.read()\n",
    "    gray = cv2.cvtColor(frame, cv2.COLOR_BGR2GRAY)\n",
    "    cv2.imwrite(\"./data/fix\" + str(i) + \".png\", gray)\n",
    "\n",
    "print(\"frame width: \" + str(cap.get(3)))\n",
    "print(\"frame height: \" + str(cap.get(4)))\n",
    "print(\"--------------------------------\")\n",
    "print(\"brightness: \" + str(cap.get(10)))\n",
    "print(\"contrast: \" + str(cap.get(11)))\n",
    "print(\"saturation: \" + str(cap.get(12)))\n",
    "print(\"--------------------------------\")\n",
    "print(\"gain: \" + str(cap.get(14)))\n",
    "print(\"exposure: \" + str(cap.get(15)))\n",
    "print(\"--------------------------------\")\n",
    "print(\"white balance: \" + str(cap.get(17)))\n",
    "\n",
    "cap.release()\n",
    "#cv2.destroyAllWindows()"
   ]
  },
  {
   "cell_type": "markdown",
   "id": "790fd675",
   "metadata": {},
   "source": [
    "### 1.2 Mittelwert und die Standartabweichung"
   ]
  },
  {
   "cell_type": "code",
   "execution_count": 2,
   "id": "85b120bc",
   "metadata": {},
   "outputs": [
    {
     "name": "stdout",
     "output_type": "stream",
     "text": [
      "\t\t| std \t\t| mean\n",
      "-----------------------------------------------------\n",
      "schwarz \t| 2.641622 \t| 29.286991\n",
      "dunkelgrau \t| 2.657652 \t| 68.133286\n",
      "mittelgrau \t| 1.679518 \t| 112.853996\n",
      "hellgrau \t| 2.370252 \t| 151.935501\n",
      "weiß \t\t| 2.986076 \t| 195.880798\n"
     ]
    }
   ],
   "source": [
    "image = cv2.imread(\"./data/dark1.png\")\n",
    "image = image.astype('float32')\n",
    "\n",
    "schwarz = image[0:450,0:130]\n",
    "dunkelgrau = image[:,140:270]\n",
    "mittelgrau = image[:,280:410]\n",
    "hellgrau = image[:,420:540]\n",
    "weiß = image[:,560:640]\n",
    "\n",
    "cv2.imwrite(\"./data/changed/black.png\", schwarz.astype('uint8'))\n",
    "cv2.imwrite(\"./data/changed/dark1.png\", dunkelgrau.astype('uint8'))\n",
    "cv2.imwrite(\"./data/changed/dark2.png\", mittelgrau.astype('uint8'))\n",
    "cv2.imwrite(\"./data/changed/dark3.png\", hellgrau.astype('uint8'))\n",
    "cv2.imwrite(\"./data/changed/white.png\", weiß.astype('uint8'))\n",
    "\n",
    "print(\"\\t\\t| std \\t\\t| mean\")\n",
    "print(\"-----------------------------------------------------\")\n",
    "print(\"schwarz \\t| %f \\t| %f\" %(np.std(schwarz),np.mean(schwarz)))\n",
    "print(\"dunkelgrau \\t| %f \\t| %f\" %(np.std(dunkelgrau),np.mean(dunkelgrau)))\n",
    "print(\"mittelgrau \\t| %f \\t| %f\" %(np.std(mittelgrau),np.mean(mittelgrau)))\n",
    "print(\"hellgrau \\t| %f \\t| %f\" %(np.std(hellgrau),np.mean(hellgrau)))\n",
    "print(\"weiß \\t\\t| %f \\t| %f\" %(np.std(weiß),np.mean(weiß)))"
   ]
  },
  {
   "cell_type": "markdown",
   "id": "43d74200",
   "metadata": {},
   "source": [
    "## 2. Aufnahme eines Dunkelbildes"
   ]
  },
  {
   "cell_type": "code",
   "execution_count": 35,
   "id": "d39304a4-f191-4b5d-9ed0-d21a2c839055",
   "metadata": {},
   "outputs": [
    {
     "data": {
      "text/plain": [
       "True"
      ]
     },
     "execution_count": 35,
     "metadata": {},
     "output_type": "execute_result"
    }
   ],
   "source": [
    "imgpath = \"./data/black\"\n",
    "imgpath2 = \"./data/white0.png\"\n",
    "imgarr = []\n",
    "\n",
    "\n",
    "def pixmean(path):\n",
    "    for i in range(10):\n",
    "        img = cv2.imread(path + str(i) + \".png\", cv2.IMREAD_GRAYSCALE)\n",
    "        imgarr.append(img)\n",
    "\n",
    "    return np.mean(imgarr, axis=0).astype(np.double)\n",
    "\n",
    "darkmean = pixmean(imgpath)\n",
    "cv2.imwrite(\"./data/changed/darkmean.png\", darkmean.astype('uint8'))\n",
    "\n",
    "def submeandark(img):\n",
    "    img = cv2.imread(img, cv2.IMREAD_GRAYSCALE)\n",
    "    return img - darkmean\n",
    "\n",
    "new_img = submeandark(imgpath2)\n",
    "cv2.imwrite(\"./data/changed/fixedimage.png\", new_img.astype('uint8'))"
   ]
  },
  {
   "cell_type": "markdown",
   "id": "dd6fa8ec-d5f4-43bd-80f4-66801e118911",
   "metadata": {},
   "source": [
    "### Mittelwert Dunkelbild:\n",
    "![](data/changed/darkmean.png)\n",
    "\n",
    "### Ausgangsbild\n",
    "![](data/changed/fixedimage.png)"
   ]
  },
  {
   "cell_type": "markdown",
   "id": "1a4b5889",
   "metadata": {},
   "source": [
    "## 3. Aufnahme eines Weißbildes"
   ]
  },
  {
   "cell_type": "code",
   "execution_count": 62,
   "id": "4e833597-6251-4231-9622-695e2735373b",
   "metadata": {},
   "outputs": [
    {
     "name": "stdout",
     "output_type": "stream",
     "text": [
      "152.6381111870247\n",
      "Deadpixel x/y: 633/0\n"
     ]
    },
    {
     "data": {
      "text/plain": [
       "True"
      ]
     },
     "execution_count": 62,
     "metadata": {},
     "output_type": "execute_result"
    }
   ],
   "source": [
    "def get_image(image_path):\n",
    "    img_arr = []\n",
    "\n",
    "    for i in range(10):\n",
    "        img_read = cv2.imread(image_path + str(i) + \".png\", cv2.IMREAD_GRAYSCALE)\n",
    "        img_arr.append(img_read)\n",
    "\n",
    "    return np.mean(img_arr, axis=0).astype(np.double)\n",
    "\n",
    "\n",
    "def fix_noise(dark_img, light_img, img):\n",
    "    img = img - dark_img\n",
    "    light_img = (light_img - dark_img) / np.mean(light_img)\n",
    "    img = img / light_img\n",
    "    return img\n",
    "\n",
    "\n",
    "def bildKontrastMaximiert(img, filename):\n",
    "    imgCorrected = np.zeros(shape=(len(img), len(img[0])))\n",
    "    min = np.min(img)\n",
    "    max = np.max(img)\n",
    "    for i in range(480):\n",
    "        for j in range(640):\n",
    "            imgCorrected[i][j] = img[i][j] - min\n",
    "            if max > min:\n",
    "                imgCorrected[i][j] = imgCorrected[i][j] * (255 / (max - min))\n",
    "            else:\n",
    "                imgCorrected[i][j] = imgCorrected[i][j] * 255\n",
    "\n",
    "    cv2.imwrite(\"data/changed/\" + filename + \".png\", imgCorrected.astype('uint8'))\n",
    "\n",
    "    count = 0\n",
    "    for i in range(len(img)):\n",
    "        for j in range(len(img[0])):\n",
    "            if img[i][j] == imgCorrected[i][j]:\n",
    "                count += 1\n",
    "    return imgCorrected\n",
    "\n",
    "\n",
    "imagedb = get_image(\"./data/black\") #dunkelbild\n",
    "# imagedb = imagedb.astype('float32')\n",
    "\n",
    "imagewb = get_image(\"./data/white\") #weißbild\n",
    "# imagewb = imagewb.astype('float32')\n",
    "\n",
    "\n",
    "eingangsbildname = \"dark1\"\n",
    "imageub = cv2.imread(\"./data/\" + eingangsbildname + \".png\", cv2.IMREAD_GRAYSCALE) #unbearbeitetes einlesebild\n",
    "imageub = imageub.astype('float32')\n",
    "\n",
    "darksubtract = np.subtract(imageub,imagedb) # Dunkelbild von Eingangsbild abziehen\n",
    "\n",
    "cv2.imwrite(\"./data/changed/black_bearbeitet.png\", darksubtract.astype('uint8'))\n",
    "\n",
    "imgCorrected = bildKontrastMaximiert(np.subtract(imagewb, imagedb), \"white_kontrastmaximiert\")\n",
    "meanwhite = np.divide(imgCorrected, np.mean(imgCorrected)) # Weißbild normiert mit Mittelwert zu 1\n",
    "print(np.mean(imgCorrected))\n",
    "cv2.imwrite(\"./data/changed/meanwhitebearbeitet.png\", imagewb.astype('uint8'))\n",
    "\n",
    "fin = np.zeros(shape=(len(darksubtract), len(darksubtract[0])))\n",
    "\n",
    "for i in range(len(darksubtract)):\n",
    "    for j in range(len(darksubtract[0])):\n",
    "        if meanwhite[i][j] > 0:\n",
    "            fin[i][j] = float(darksubtract[i][j]) / float(meanwhite[i][j])\n",
    "        else:\n",
    "            print(\"Deadpixel x/y: {}/{}\".format(j, i))\n",
    "            fin[i][j] = float(darksubtract[i][j])\n",
    "\n",
    "\n",
    "cv2.imwrite(\"./data/changed/\" + eingangsbildname + \"_bearbeitet.png\", fin.astype('uint8'))"
   ]
  },
  {
   "cell_type": "markdown",
   "id": "852641cf-29a4-4e66-b596-dee833b80e50",
   "metadata": {},
   "source": [
    "### Kontrastmaximiertes Weißbild:\n",
    "![](./data/changed/white_kontrastmaximiert.png)\n",
    "\n",
    "### Eingangsbild\n",
    "![](./data/dark1.png)\n",
    "\n",
    "### Korrigiertes Eingangsbild\n",
    "![](./data/changed/dark1_bearbeitet.png)"
   ]
  },
  {
   "cell_type": "markdown",
   "id": "f50d40d7",
   "metadata": {},
   "source": [
    "## 4. Pixelfehler"
   ]
  },
  {
   "cell_type": "code",
   "execution_count": 24,
   "id": "76e54ceb",
   "metadata": {},
   "outputs": [
    {
     "name": "stdout",
     "output_type": "stream",
     "text": [
      "Are there Hotpixels? No\n",
      "Are there Stuckpixels? No\n",
      "Are there Deadpixels? No\n"
     ]
    }
   ],
   "source": [
    "def get_hot_pixels():\n",
    "    dark_img = get_image(\"./data/black\")\n",
    "    return np.any(dark_img[:, :] > 0)\n",
    "\n",
    "\n",
    "def get_stuck_pixels():\n",
    "    dark_img = get_image(\"./data/black\")\n",
    "    light_img = get_image(\"./data/white\")\n",
    "    return np.any(dark_img[:, :] == light_img[:, :])\n",
    "\n",
    "\n",
    "def get_dead_pixels():\n",
    "    light_img = get_image(\"./data/white\")\n",
    "    return np.any(light_img[:, :] == 0)\n",
    "\n",
    "\n",
    "def get_image(image_path):\n",
    "    img_arr = []\n",
    "\n",
    "    for i in range(10):\n",
    "        img_read = cv2.imread(image_path + str(i) + \".png\", cv2.IMREAD_GRAYSCALE)\n",
    "        img_arr.append(img_read)\n",
    "\n",
    "    return np.mean(img_arr, axis=0).astype(np.double)\n",
    "\n",
    "\n",
    "print(\"Are there Hotpixels? \" + (\"Yes\" if get_hot_pixels() else \"No\"))\n",
    "print(\"Are there Stuckpixels? \" + (\"Yes\" if get_stuck_pixels() else \"No\"))\n",
    "print(\"Are there Deadpixels? \" + (\"Yes\" if get_dead_pixels() else \"No\"))"
   ]
  },
  {
   "cell_type": "code",
   "execution_count": 63,
   "id": "49e206f6-cf4e-438e-8f8f-c70bf6ad9bb9",
   "metadata": {},
   "outputs": [
    {
     "name": "stdout",
     "output_type": "stream",
     "text": [
      "\t\t| std \t\t| mean\n",
      "-----------------------------------------------------\n",
      "schwarz \t| 8.557275 \t| 35.107777\n",
      "dunkelgrau \t| 9.791692 \t| 58.970387\n",
      "mittelgrau \t| 17.372145 \t| 94.900917\n",
      "hellgrau \t| 34.676926 \t| 160.336105\n",
      "weiß \t\t| 87.195442 \t| 124.761276\n"
     ]
    }
   ],
   "source": [
    "image = cv2.imread(\"./data/changed/dark1_bearbeitet.png\").astype('float32')\n",
    "\n",
    "schwarz = image[0:450,0:130]\n",
    "dunkelgrau = image[:,140:270]\n",
    "mittelgrau = image[:,280:410]\n",
    "hellgrau = image[:,420:540]\n",
    "weiß = image[:,560:640]\n",
    "\n",
    "cv2.imwrite(\"./data/changed/4black.png\", schwarz.astype('uint8'))\n",
    "cv2.imwrite(\"./data/changed/4dark1.png\", dunkelgrau.astype('uint8'))\n",
    "cv2.imwrite(\"./data/changed/4dark2.png\", mittelgrau.astype('uint8'))\n",
    "cv2.imwrite(\"./data/changed/4dark3.png\", hellgrau.astype('uint8'))\n",
    "cv2.imwrite(\"./data/changed/4white.png\", weiß.astype('uint8'))\n",
    "\n",
    "print(\"\\t\\t| std \\t\\t| mean\")\n",
    "print(\"-----------------------------------------------------\")\n",
    "print(\"schwarz \\t| %f \\t| %f\" %(np.std(schwarz),np.mean(schwarz)))\n",
    "print(\"dunkelgrau \\t| %f \\t| %f\" %(np.std(dunkelgrau),np.mean(dunkelgrau)))\n",
    "print(\"mittelgrau \\t| %f \\t| %f\" %(np.std(mittelgrau),np.mean(mittelgrau)))\n",
    "print(\"hellgrau \\t| %f \\t| %f\" %(np.std(hellgrau),np.mean(hellgrau)))\n",
    "print(\"weiß \\t\\t| %f \\t| %f\" %(np.std(weiß),np.mean(weiß)))"
   ]
  },
  {
   "cell_type": "markdown",
   "id": "a7313eb0-656a-4e89-97dc-7544f573f1f6",
   "metadata": {},
   "source": [
    "### Korrigierter Grauwertkeil\n",
    "![](./data/changed/dark1_bearbeitet.png)\n",
    "\n",
    "Todo:\n",
    "- Kontrastmaximierung bei Weißbild\n",
    "- Weißbildkorrektur"
   ]
  }
 ],
 "metadata": {
  "kernelspec": {
   "display_name": "Python 3 (ipykernel)",
   "language": "python",
   "name": "python3"
  },
  "language_info": {
   "codemirror_mode": {
    "name": "ipython",
    "version": 3
   },
   "file_extension": ".py",
   "mimetype": "text/x-python",
   "name": "python",
   "nbconvert_exporter": "python",
   "pygments_lexer": "ipython3",
   "version": "3.11.6"
  }
 },
 "nbformat": 4,
 "nbformat_minor": 5
}
