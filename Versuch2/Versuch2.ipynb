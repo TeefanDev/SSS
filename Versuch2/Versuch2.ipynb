{
 "cells": [
  {
   "cell_type": "markdown",
   "id": "cfbd976b",
   "metadata": {},
   "source": [
    "# Versuch 2 - Kalibrierung von Digitalkameras\n",
    "\n",
    "Dominik Bartsch, Stefan Ptacek, Niklas Kaiser"
   ]
  },
  {
   "cell_type": "code",
   "execution_count": 1,
   "id": "31c6c2cb",
   "metadata": {},
   "outputs": [
    {
     "name": "stdout",
     "output_type": "stream",
     "text": [
      "Defaulting to user installation because normal site-packages is not writeable\n",
      "Requirement already satisfied: opencv-python in /home/dominik/.local/lib/python3.11/site-packages (4.8.1.78)\n",
      "Requirement already satisfied: numpy>=1.21.2 in /home/dominik/.local/lib/python3.11/site-packages (from opencv-python) (1.26.1)\n"
     ]
    }
   ],
   "source": [
    "!python -m pip install opencv-python\n",
    "import cv2\n",
    "import numpy as np"
   ]
  },
  {
   "cell_type": "markdown",
   "id": "aa2cce97",
   "metadata": {},
   "source": [
    "## 1. Aufnahme und Analyse eines Grauwertkeiles\n",
    "### 1.1 Einlesen der Werte aus der Kamera"
   ]
  },
  {
   "cell_type": "code",
   "execution_count": 4,
   "id": "fe46d376",
   "metadata": {},
   "outputs": [
    {
     "name": "stderr",
     "output_type": "stream",
     "text": [
      "[ WARN:0@11.575] global cap_v4l.cpp:982 open VIDEOIO(V4L2:/dev/video0): can't open camera by index\n",
      "[ERROR:0@11.575] global obsensor_uvc_stream_channel.cpp:156 getStreamChannelGroup Camera index out of range\n"
     ]
    },
    {
     "ename": "error",
     "evalue": "OpenCV(4.8.1) /io/opencv/modules/imgproc/src/color.cpp:182: error: (-215:Assertion failed) !_src.empty() in function 'cvtColor'\n",
     "output_type": "error",
     "traceback": [
      "\u001b[0;31m---------------------------------------------------------------------------\u001b[0m",
      "\u001b[0;31merror\u001b[0m                                     Traceback (most recent call last)",
      "Cell \u001b[0;32mIn[4], line 7\u001b[0m\n\u001b[1;32m      5\u001b[0m \u001b[38;5;28;01mfor\u001b[39;00m i \u001b[38;5;129;01min\u001b[39;00m \u001b[38;5;28mrange\u001b[39m(\u001b[38;5;241m10\u001b[39m):\n\u001b[1;32m      6\u001b[0m     ret, frame \u001b[38;5;241m=\u001b[39m cap\u001b[38;5;241m.\u001b[39mread()\n\u001b[0;32m----> 7\u001b[0m     gray \u001b[38;5;241m=\u001b[39m \u001b[43mcv2\u001b[49m\u001b[38;5;241;43m.\u001b[39;49m\u001b[43mcvtColor\u001b[49m\u001b[43m(\u001b[49m\u001b[43mframe\u001b[49m\u001b[43m,\u001b[49m\u001b[43m \u001b[49m\u001b[43mcv2\u001b[49m\u001b[38;5;241;43m.\u001b[39;49m\u001b[43mCOLOR_BGR2GRAY\u001b[49m\u001b[43m)\u001b[49m\n\u001b[1;32m      8\u001b[0m     cv2\u001b[38;5;241m.\u001b[39mimwrite(\u001b[38;5;124m\"\u001b[39m\u001b[38;5;124m./data/fix\u001b[39m\u001b[38;5;124m\"\u001b[39m \u001b[38;5;241m+\u001b[39m \u001b[38;5;28mstr\u001b[39m(i) \u001b[38;5;241m+\u001b[39m \u001b[38;5;124m\"\u001b[39m\u001b[38;5;124m.png\u001b[39m\u001b[38;5;124m\"\u001b[39m, gray)\n\u001b[1;32m     10\u001b[0m \u001b[38;5;28mprint\u001b[39m(\u001b[38;5;124m\"\u001b[39m\u001b[38;5;124mframe width: \u001b[39m\u001b[38;5;124m\"\u001b[39m \u001b[38;5;241m+\u001b[39m \u001b[38;5;28mstr\u001b[39m(cap\u001b[38;5;241m.\u001b[39mget(\u001b[38;5;241m3\u001b[39m)))\n",
      "\u001b[0;31merror\u001b[0m: OpenCV(4.8.1) /io/opencv/modules/imgproc/src/color.cpp:182: error: (-215:Assertion failed) !_src.empty() in function 'cvtColor'\n"
     ]
    }
   ],
   "source": [
    "# -------- Aufgabe1.1 -------- #\n",
    "\n",
    "cap = cv2.VideoCapture(0)\n",
    "\n",
    "for i in range(10):\n",
    "    ret, frame = cap.read()\n",
    "    gray = cv2.cvtColor(frame, cv2.COLOR_BGR2GRAY)\n",
    "    cv2.imwrite(\"./data/fix\" + str(i) + \".png\", gray)\n",
    "\n",
    "print(\"frame width: \" + str(cap.get(3)))\n",
    "print(\"frame height: \" + str(cap.get(4)))\n",
    "print(\"--------------------------------\")\n",
    "print(\"brightness: \" + str(cap.get(10)))\n",
    "print(\"contrast: \" + str(cap.get(11)))\n",
    "print(\"saturation: \" + str(cap.get(12)))\n",
    "print(\"--------------------------------\")\n",
    "print(\"gain: \" + str(cap.get(14)))\n",
    "print(\"exposure: \" + str(cap.get(15)))\n",
    "print(\"--------------------------------\")\n",
    "print(\"white balance: \" + str(cap.get(17)))\n",
    "\n",
    "cap.release()\n",
    "#cv2.destroyAllWindows()"
   ]
  },
  {
   "cell_type": "markdown",
   "id": "790fd675",
   "metadata": {},
   "source": [
    "### 1.2 Mittelwert und die Standartabweichung"
   ]
  },
  {
   "cell_type": "code",
   "execution_count": 2,
   "id": "85b120bc",
   "metadata": {},
   "outputs": [
    {
     "name": "stdout",
     "output_type": "stream",
     "text": [
      "\t\t| std \t\t| mean\n",
      "-----------------------------------------------------\n",
      "schwarz \t| 2.969366 \t| 29.091000\n",
      "dunkelgrau \t| 2.326184 \t| 67.090790\n",
      "mittelgrau \t| 1.746090 \t| 113.020500\n",
      "hellgrau \t| 2.471456 \t| 150.536377\n",
      "weiß \t\t| 4.311863 \t| 195.475830\n"
     ]
    }
   ],
   "source": [
    "image = cv2.imread(\"./data/dark1.png\")\n",
    "image = image.astype('float32')\n",
    "\n",
    "schwarz = image[:,0:50]\n",
    "dunkelgrau = image[:,150:200]\n",
    "mittelgrau = image[:,300:350]\n",
    "hellgrau = image[:,500:550]\n",
    "weiß = image[:,550:600]\n",
    "\n",
    "cv2.imwrite(\"./data/changed/black.png\", schwarz.astype('uint8'))\n",
    "cv2.imwrite(\"./data/changed/dark1.png\", dunkelgrau.astype('uint8'))\n",
    "cv2.imwrite(\"./data/changed/dark2.png\", mittelgrau.astype('uint8'))\n",
    "cv2.imwrite(\"./data/changed/dark3.png\", hellgrau.astype('uint8'))\n",
    "cv2.imwrite(\"./data/changed/white.png\", weiß.astype('uint8'))\n",
    "\n",
    "print(\"\\t\\t| std \\t\\t| mean\")\n",
    "print(\"-----------------------------------------------------\")\n",
    "print(\"schwarz \\t| %f \\t| %f\" %(np.std(schwarz),np.mean(schwarz)))\n",
    "print(\"dunkelgrau \\t| %f \\t| %f\" %(np.std(dunkelgrau),np.mean(dunkelgrau)))\n",
    "print(\"mittelgrau \\t| %f \\t| %f\" %(np.std(mittelgrau),np.mean(mittelgrau)))\n",
    "print(\"hellgrau \\t| %f \\t| %f\" %(np.std(hellgrau),np.mean(hellgrau)))\n",
    "print(\"weiß \\t\\t| %f \\t| %f\" %(np.std(weiß),np.mean(weiß)))"
   ]
  },
  {
   "cell_type": "markdown",
   "id": "ce259e9f",
   "metadata": {},
   "source": [
    "### Mittelwert und die Standardabweichung"
   ]
  },
  {
   "cell_type": "code",
   "execution_count": 6,
   "id": "3e6d74b6",
   "metadata": {},
   "outputs": [
    {
     "name": "stdout",
     "output_type": "stream",
     "text": [
      "[[ 39.4  40.3  40.2 ... 190.6 189.7 189.7]\n",
      " [ 36.3  37.3  36.9 ... 191.7 191.7 191.7]\n",
      " [ 33.2  32.9  33.1 ... 192.9 193.1 193.1]\n",
      " ...\n",
      " [ 40.9  41.7  41.  ... 189.5 189.3 189.3]\n",
      " [ 56.   56.3  54.9 ... 189.3 188.9 188.9]\n",
      " [ 74.   73.4  71.4 ... 189.3 189.2 189.2]]\n",
      "[120, 260, 400, 540, 640]\n",
      "[array([[36.9, 37. , 37.4, ..., 34.8, 34.6, 36. ],\n",
      "       [35.7, 35. , 34.7, ..., 34.9, 33.6, 34.1],\n",
      "       [33.7, 32.7, 32. , ..., 33.8, 32.4, 32.5],\n",
      "       ...,\n",
      "       [38.2, 37.4, 36.8, ..., 34.7, 34.6, 34.3],\n",
      "       [45.5, 44.7, 44. , ..., 37.2, 37. , 37.3],\n",
      "       [62.3, 59.9, 58.5, ..., 41.9, 41.2, 42.2]]), array([[64.8, 64.8, 65.5, ..., 65.9, 66.6, 68.1],\n",
      "       [64.9, 65.2, 64.9, ..., 65.2, 66.2, 67.3],\n",
      "       [65.1, 66. , 65.8, ..., 65.3, 66.2, 66.3],\n",
      "       ...,\n",
      "       [65.8, 65.7, 65. , ..., 64.9, 66. , 66.1],\n",
      "       [65.7, 65.2, 64.5, ..., 65.7, 65.8, 65. ],\n",
      "       [66.1, 65.9, 66. , ..., 68.5, 67. , 66.2]]), array([[108. , 107.6, 108.3, ..., 111.7, 111.5, 111.2],\n",
      "       [107.5, 107. , 106.9, ..., 109.5, 109.5, 108.7],\n",
      "       [107.6, 107.7, 107.4, ..., 108.3, 109.1, 108.5],\n",
      "       ...,\n",
      "       [110.1, 109.9, 109.8, ..., 109.8, 110.6, 110.4],\n",
      "       [110. , 109.9, 110.6, ..., 110. , 109.9, 110.2],\n",
      "       [109.4, 109.7, 110.7, ..., 110.2, 110.4, 110.1]]), array([[148.5, 148.2, 148.5, ..., 150.2, 150.8, 150.9],\n",
      "       [146.9, 147.2, 147.7, ..., 146.9, 147.3, 147.1],\n",
      "       [147. , 148. , 148.9, ..., 147.8, 147.6, 147.5],\n",
      "       ...,\n",
      "       [149.7, 149.3, 149.5, ..., 148.1, 147.8, 147.9],\n",
      "       [149.3, 148.8, 149. , ..., 147.9, 148.4, 148.3],\n",
      "       [148.9, 149.1, 149.4, ..., 148. , 148.3, 148. ]]), array([[150.3, 150.6, 150.5, ..., 190.6, 190.6, 189.7],\n",
      "       [147.4, 148.1, 148.1, ..., 190.9, 191.7, 191.7],\n",
      "       [147.3, 148.5, 148.3, ..., 192.8, 192.9, 193.1],\n",
      "       ...,\n",
      "       [147.7, 147.6, 147.1, ..., 189.5, 189.5, 189.3],\n",
      "       [147.5, 148. , 148.1, ..., 189.3, 189.3, 188.9],\n",
      "       [147.4, 148.3, 148.6, ..., 189.3, 189.3, 189.2]])]\n",
      "Index: 0 , Mean: 29.25, Std: 2.36,  Fixed Mean: 0.0, Fixed Std: 0.0\n",
      "Index: 1 , Mean: 68.24, Std: 2.05,  Fixed Mean: 46.28, Fixed Std: 2.64\n",
      "Index: 2 , Mean: 112.71, Std: 1.43,  Fixed Mean: 97.39, Fixed Std: 1.8\n",
      "Index: 3 , Mean: 151.54, Std: 1.97,  Fixed Mean: 141.96, Fixed Std: 0.95\n",
      "Index: 4 , Mean: 191.55, Std: 13.12,  Fixed Mean: 195.18, Fixed Std: 0.0\n"
     ]
    }
   ],
   "source": [
    "img_arr = []\n",
    "\n",
    "\n",
    "def fix_noise(dark_img, light_img, img):\n",
    "    img = img - dark_img\n",
    "    light_img = (light_img - dark_img) / np.mean(light_img)\n",
    "    img = img / light_img\n",
    "    return img\n",
    "\n",
    "\n",
    "def get_image(image_path):\n",
    "    img_arr = []\n",
    "\n",
    "    for i in range(10):\n",
    "        img_read = cv2.imread(\"./data/\" + str(i) + \".png\", cv2.IMREAD_GRAYSCALE)\n",
    "        img_arr.append(img_read)\n",
    "\n",
    "    return np.mean(img_arr, axis=0).astype(np.double)\n",
    "\n",
    "\n",
    "for i in range(10):\n",
    "    img_read = cv2.imread(\"./data/dark\" + str(i) + \".png\", cv2.IMREAD_GRAYSCALE)\n",
    "    img_arr.append(img_read)\n",
    "\n",
    "img = np.mean(img_arr, axis=0, dtype=float)\n",
    "print(img)\n",
    "sub_arrays = []\n",
    "slicing_index = []\n",
    "\n",
    "step = 20\n",
    "threshold = 20\n",
    "for i in range(0, len(img[0]) - step, step):\n",
    "    if abs(int(img[0, i + step]) - int(img[0, i])) > threshold:\n",
    "        # print(\"Slicing at index: \" + str(i) + \" with value: \"\n",
    "        #       + str(img[0][i]) + \" and next value: \" + str(img[0][i + 1]))\n",
    "        slicing_index.append(i)\n",
    "        sub_arrays.append(img[:, i-99:i])\n",
    "\n",
    "slicing_index.append(len(img[0]))  # add last index\n",
    "sub_arrays.append(img[:, len(img[0]) - 98:len(img[0]) - 1])\n",
    "\n",
    "print(slicing_index)\n",
    "print(sub_arrays)\n",
    "\n",
    "res_mean = []\n",
    "res_std = []\n",
    "i = 0\n",
    "for x in sub_arrays:\n",
    "    fixed_x = fix_noise(sub_arrays[0][:,90], sub_arrays[4][:,90], x[:, 90])\n",
    "    mean = np.round(np.mean(x), 2)\n",
    "    mean_fixed = np.round(np.mean(fixed_x), 2)\n",
    "    res_mean.append(mean)\n",
    "    std = np.round(np.std(x), 2)\n",
    "    std_fixed = np.round(np.std(fixed_x), 2)\n",
    "    res_std.append(std)\n",
    "\n",
    "    \n",
    "    print(f\"Index: {i} , Mean: {mean}, Std: {std},  Fixed Mean: {mean_fixed}, Fixed Std: {std_fixed}\")\n",
    "    i += 1\n",
    "\n",
    "\n",
    "\n",
    "# visualize sub arrays\n",
    "#for i in range(len(sub_arrays)):\n",
    "#    cv2.imshow(\"sub_arrays\" + str(i), sub_arrays[i].astype(np.uint8))\n",
    "#cv2.waitKey(0)\n",
    "#cv2.destroyAllWindows()"
   ]
  },
  {
   "cell_type": "markdown",
   "id": "43d74200",
   "metadata": {},
   "source": [
    "## 2. Aufnahme eines Dunkelbildes"
   ]
  },
  {
   "cell_type": "code",
   "execution_count": 3,
   "id": "c33a62bd-81d1-4b2d-973d-f1e85630fe0e",
   "metadata": {},
   "outputs": [],
   "source": [
    "def get_image(image_path):\n",
    "    img_arr = []\n",
    "\n",
    "    for i in range(10):\n",
    "        img_read = cv2.imread(image_path + str(i) + \".png\", cv2.IMREAD_GRAYSCALE)\n",
    "        img_arr.append(img_read)\n",
    "\n",
    "    return np.mean(img_arr, axis=0).astype(np.double)\n",
    "\n",
    "\n",
    "def fix_noise(dark_img, light_img, img):\n",
    "    img = img - dark_img\n",
    "    light_img = (light_img - dark_img) / np.mean(light_img)\n",
    "    img = img / light_img\n",
    "    return img"
   ]
  },
  {
   "cell_type": "code",
   "execution_count": null,
   "id": "bab6a5a0-a81c-45f5-9dba-6b6191e9307b",
   "metadata": {},
   "outputs": [
    {
     "name": "stdout",
     "output_type": "stream",
     "text": [
      "[[ 41.59738094  42.37635731  42.29247895 ... 204.95645064 203.77901128\n",
      "  203.77901128]\n",
      " [ 37.96022577  39.00596201  38.56837368 ... 205.18935457 205.39969732\n",
      "  205.39969732]\n",
      " [ 34.35750909  34.0976898   34.30497059 ... 205.31737351 205.00833262\n",
      "  205.00833262]\n",
      " ...\n",
      " [ 43.22469889  44.00343049  43.22112812 ... 200.16971733 201.07611039\n",
      "  201.07611039]\n",
      " [ 59.15305631  59.46994768  57.9033446  ... 200.6682481  200.44752008\n",
      "  200.44752008]\n",
      " [ 78.1665387   77.53275595  75.38205581 ... 200.56654093 201.17433498\n",
      "  201.17433498]]\n",
      "black\n",
      "white\n"
     ]
    },
    {
     "name": "stderr",
     "output_type": "stream",
     "text": [
      "Warning: Ignoring XDG_SESSION_TYPE=wayland on Gnome. Use QT_QPA_PLATFORM=wayland to run on Wayland anyway.\n"
     ]
    }
   ],
   "source": [
    "img_dark = get_image(\"./data/black\")\n",
    "img_light = get_image(\"./data/white\")\n",
    "\n",
    "res = fix_noise(img_dark, img_light, get_image(\"./data/dark\"))\n",
    "print(res)\n",
    "cv2.imshow(\"res\", res.astype(np.uint8))\n",
    "\n",
    "alpha = 3  # Contrast control (1.0-3.0)\n",
    "beta = 0  # Brightness control (0-100)\n",
    "\n",
    "adjusted_dark = cv2.convertScaleAbs(img_dark, alpha=alpha, beta=beta)\n",
    "adjusted_light = cv2.convertScaleAbs(img_light, alpha=alpha, beta=beta)\n",
    "\n",
    "print(\"black\")\n",
    "cv2.imshow('original_black', img_dark)\n",
    "cv2.imshow('adjusted_black', adjusted_dark)\n",
    "\n",
    "print(\"white\")\n",
    "cv2.imshow('original_white', img_light)\n",
    "cv2.imshow('adjusted_white', adjusted_light)\n",
    "\n",
    "cv2.waitKey(0)\n",
    "#cv2.destroyAllWindows()"
   ]
  },
  {
   "cell_type": "markdown",
   "id": "1a4b5889",
   "metadata": {},
   "source": [
    "## 3. Aufnahme eines Weißbildes"
   ]
  },
  {
   "cell_type": "code",
   "execution_count": 9,
   "id": "8063492d",
   "metadata": {},
   "outputs": [
    {
     "ename": "ValueError",
     "evalue": "operands could not be broadcast together with shapes (480,640,3) (480,640) ",
     "output_type": "error",
     "traceback": [
      "\u001b[0;31m---------------------------------------------------------------------------\u001b[0m",
      "\u001b[0;31mValueError\u001b[0m                                Traceback (most recent call last)",
      "Cell \u001b[0;32mIn[9], line 12\u001b[0m\n\u001b[1;32m      9\u001b[0m imageub \u001b[38;5;241m=\u001b[39m cv2\u001b[38;5;241m.\u001b[39mimread(\u001b[38;5;124m\"\u001b[39m\u001b[38;5;124m./data/\u001b[39m\u001b[38;5;124m\"\u001b[39m \u001b[38;5;241m+\u001b[39m eingangsbildname \u001b[38;5;241m+\u001b[39m \u001b[38;5;124m\"\u001b[39m\u001b[38;5;124m.png\u001b[39m\u001b[38;5;124m\"\u001b[39m) \u001b[38;5;66;03m#unbearbeitetes einlesebild\u001b[39;00m\n\u001b[1;32m     10\u001b[0m imageub \u001b[38;5;241m=\u001b[39m imageub\u001b[38;5;241m.\u001b[39mastype(\u001b[38;5;124m'\u001b[39m\u001b[38;5;124mfloat32\u001b[39m\u001b[38;5;124m'\u001b[39m)\n\u001b[0;32m---> 12\u001b[0m darksubtract \u001b[38;5;241m=\u001b[39m \u001b[43mnp\u001b[49m\u001b[38;5;241;43m.\u001b[39;49m\u001b[43msubtract\u001b[49m\u001b[43m(\u001b[49m\u001b[43mimageub\u001b[49m\u001b[43m,\u001b[49m\u001b[43mimagedb\u001b[49m\u001b[43m)\u001b[49m \u001b[38;5;66;03m# Dunkelbild von Eingangsbild abziehen\u001b[39;00m\n\u001b[1;32m     14\u001b[0m cv2\u001b[38;5;241m.\u001b[39mimwrite(\u001b[38;5;124m\"\u001b[39m\u001b[38;5;124m./data/changed/black_bearbeitet.png\u001b[39m\u001b[38;5;124m\"\u001b[39m, darksubtract\u001b[38;5;241m.\u001b[39mastype(\u001b[38;5;124m'\u001b[39m\u001b[38;5;124muint8\u001b[39m\u001b[38;5;124m'\u001b[39m))\n\u001b[1;32m     16\u001b[0m meanwhite \u001b[38;5;241m=\u001b[39m np\u001b[38;5;241m.\u001b[39mdivide(imagewb, np\u001b[38;5;241m.\u001b[39mmean(imagewb)) \u001b[38;5;66;03m# Weißbild normiert mit Mittelwert zu 1\u001b[39;00m\n",
      "\u001b[0;31mValueError\u001b[0m: operands could not be broadcast together with shapes (480,640,3) (480,640) "
     ]
    }
   ],
   "source": [
    "imagedb = get_image(\"./data/black\") #dunkelbild\n",
    "# imagedb = imagedb.astype('float32')\n",
    "\n",
    "imagewb = get_image(\"./data/white\") #weißbild\n",
    "# imagewb = imagewb.astype('float32')\n",
    "\n",
    "\n",
    "eingangsbildname = \"dark1\"\n",
    "imageub = cv2.imread(\"./data/\" + eingangsbildname + \".png\") #unbearbeitetes einlesebild\n",
    "imageub = imageub.astype('float32')\n",
    "\n",
    "darksubtract = np.subtract(imageub,imagedb) # Dunkelbild von Eingangsbild abziehen\n",
    "\n",
    "cv2.imwrite(\"./data/changed/black_bearbeitet.png\", darksubtract.astype('uint8'))\n",
    "\n",
    "meanwhite = np.divide(imagewb, np.mean(imagewb)) # Weißbild normiert mit Mittelwert zu 1\n",
    "\n",
    "cv2.imwrite(\"./data/changed/meanwhitebearbeitet.png\", imagewb.astype('uint8'))\n",
    "\n",
    "fin = darksubtract/meanwhite #np.divide(darksubtract, meanwhite) # Bearbeitetes Eingangsbild mit meanwhite dividieren\n",
    "\n",
    "cv2.imwrite(\"./data/changed/\" + eingangsbildname + \"_bearbeitet.png\", fin.astype('uint8'))"
   ]
  },
  {
   "cell_type": "markdown",
   "id": "852641cf-29a4-4e66-b596-dee833b80e50",
   "metadata": {},
   "source": [
    "### Kontrastmaximiertes Weißbild:\n",
    "![](data/changed/meanwhitebearbeitet.png)\n",
    "\n",
    "### Eingangsbild\n",
    "![](data/dark1.png)\n",
    "\n",
    "### Korrigiertes Eingangsbild\n",
    "![](data/changed/dark1_bearbeitet.png)"
   ]
  },
  {
   "cell_type": "markdown",
   "id": "f50d40d7",
   "metadata": {},
   "source": [
    "## 4. Pixelfehler"
   ]
  },
  {
   "cell_type": "code",
   "execution_count": 9,
   "id": "76e54ceb",
   "metadata": {},
   "outputs": [
    {
     "name": "stdout",
     "output_type": "stream",
     "text": [
      "False\n",
      "False\n",
      "False\n"
     ]
    }
   ],
   "source": [
    "def get_hot_pixels():\n",
    "    dark_img = get_image(\"./data/black\")\n",
    "    return np.any(dark_img[:, :] > 0)\n",
    "\n",
    "\n",
    "def get_stuck_pixels():\n",
    "    dark_img = get_image(\"./data/black\")\n",
    "    light_img = get_image(\"./data/white\")\n",
    "    return np.any(dark_img[:, :] == light_img[:, :])\n",
    "\n",
    "\n",
    "def get_dead_pixels():\n",
    "    light_img = get_image(\"./data/white\")\n",
    "    return np.any(light_img[:, :] == 0)\n",
    "\n",
    "\n",
    "def get_image(image_path):\n",
    "    img_arr = []\n",
    "\n",
    "    for i in range(10):\n",
    "        img_read = cv2.imread(image_path + str(i) + \".png\", cv2.IMREAD_GRAYSCALE)\n",
    "        img_arr.append(img_read)\n",
    "\n",
    "    return np.mean(img_arr, axis=0).astype(np.double)\n",
    "\n",
    "\n",
    "print(get_hot_pixels())\n",
    "print(get_stuck_pixels())\n",
    "print(get_dead_pixels())"
   ]
  }
 ],
 "metadata": {
  "kernelspec": {
   "display_name": "Python 3 (ipykernel)",
   "language": "python",
   "name": "python3"
  },
  "language_info": {
   "codemirror_mode": {
    "name": "ipython",
    "version": 3
   },
   "file_extension": ".py",
   "mimetype": "text/x-python",
   "name": "python",
   "nbconvert_exporter": "python",
   "pygments_lexer": "ipython3",
   "version": "3.11.6"
  }
 },
 "nbformat": 4,
 "nbformat_minor": 5
}
