{
 "cells": [
  {
   "cell_type": "markdown",
   "id": "cfbd976b",
   "metadata": {},
   "source": [
    "# Versuch 2 - Kalibrierung von Digitalkameras\n",
    "\n",
    "## Dominik Bartsch, Stefan Ptacek, Niklas Kaiser"
   ]
  },
  {
   "cell_type": "code",
   "execution_count": 1,
   "id": "31c6c2cb",
   "metadata": {},
   "outputs": [],
   "source": [
    "import cv2\n",
    "import numpy as np"
   ]
  },
  {
   "cell_type": "markdown",
   "id": "aa2cce97",
   "metadata": {},
   "source": [
    "### 1. Aufnahme und Analyse eines Grauwertkeiles\n",
    "#### 1.1"
   ]
  },
  {
   "cell_type": "code",
   "execution_count": 2,
   "id": "fe46d376",
   "metadata": {},
   "outputs": [
    {
     "name": "stdout",
     "output_type": "stream",
     "text": [
      "frame width: 640.0\n",
      "frame height: 480.0\n",
      "--------------------------------\n",
      "brightness: 128.0\n",
      "contrast: 32.0\n",
      "saturation: 64.0\n",
      "--------------------------------\n",
      "gain: -1.0\n",
      "exposure: -6.0\n",
      "--------------------------------\n",
      "white balance: 1.0\n"
     ]
    }
   ],
   "source": [
    "# -------- Aufgabe1.1 -------- #\n",
    "\n",
    "cap = cv2.VideoCapture(0)\n",
    "\n",
    "for i in range(10):\n",
    "    ret, frame = cap.read()\n",
    "    gray = cv2.cvtColor(frame, cv2.COLOR_BGR2GRAY)\n",
    "    cv2.imwrite(\"data/dark\" + str(i) + \".png\", gray)\n",
    "\n",
    "print(\"frame width: \" + str(cap.get(3)))\n",
    "print(\"frame height: \" + str(cap.get(4)))\n",
    "print(\"--------------------------------\")\n",
    "print(\"brightness: \" + str(cap.get(10)))\n",
    "print(\"contrast: \" + str(cap.get(11)))\n",
    "print(\"saturation: \" + str(cap.get(12)))\n",
    "print(\"--------------------------------\")\n",
    "print(\"gain: \" + str(cap.get(14)))\n",
    "print(\"exposure: \" + str(cap.get(15)))\n",
    "print(\"--------------------------------\")\n",
    "print(\"white balance: \" + str(cap.get(17)))\n",
    "\n",
    "cap.release()\n",
    "#cv2.destroyAllWindows()"
   ]
  },
  {
   "cell_type": "code",
   "execution_count": 3,
   "id": "3e6d74b6",
   "metadata": {},
   "outputs": [
    {
     "name": "stdout",
     "output_type": "stream",
     "text": [
      "nan\n"
     ]
    },
    {
     "ename": "IndexError",
     "evalue": "invalid index to scalar variable.",
     "output_type": "error",
     "traceback": [
      "\u001b[1;31m---------------------------------------------------------------------------\u001b[0m",
      "\u001b[1;31mIndexError\u001b[0m                                Traceback (most recent call last)",
      "Cell \u001b[1;32mIn[3], line 32\u001b[0m\n\u001b[0;32m     30\u001b[0m step \u001b[38;5;241m=\u001b[39m \u001b[38;5;241m20\u001b[39m\n\u001b[0;32m     31\u001b[0m threshold \u001b[38;5;241m=\u001b[39m \u001b[38;5;241m20\u001b[39m\n\u001b[1;32m---> 32\u001b[0m \u001b[38;5;28;01mfor\u001b[39;00m i \u001b[38;5;129;01min\u001b[39;00m \u001b[38;5;28mrange\u001b[39m(\u001b[38;5;241m0\u001b[39m, \u001b[38;5;28mlen\u001b[39m(\u001b[43mimg\u001b[49m\u001b[43m[\u001b[49m\u001b[38;5;241;43m0\u001b[39;49m\u001b[43m]\u001b[49m) \u001b[38;5;241m-\u001b[39m step, step):\n\u001b[0;32m     33\u001b[0m     \u001b[38;5;28;01mif\u001b[39;00m \u001b[38;5;28mabs\u001b[39m(\u001b[38;5;28mint\u001b[39m(img[\u001b[38;5;241m0\u001b[39m, i \u001b[38;5;241m+\u001b[39m step]) \u001b[38;5;241m-\u001b[39m \u001b[38;5;28mint\u001b[39m(img[\u001b[38;5;241m0\u001b[39m, i])) \u001b[38;5;241m>\u001b[39m threshold:\n\u001b[0;32m     34\u001b[0m         \u001b[38;5;66;03m# print(\"Slicing at index: \" + str(i) + \" with value: \"\u001b[39;00m\n\u001b[0;32m     35\u001b[0m         \u001b[38;5;66;03m#       + str(img[0][i]) + \" and next value: \" + str(img[0][i + 1]))\u001b[39;00m\n\u001b[0;32m     36\u001b[0m         slicing_index\u001b[38;5;241m.\u001b[39mappend(i)\n",
      "\u001b[1;31mIndexError\u001b[0m: invalid index to scalar variable."
     ]
    }
   ],
   "source": [
    "img_arr = []\n",
    "\n",
    "\n",
    "def fix_noise(dark_img, light_img, img):\n",
    "    img = img - dark_img\n",
    "    light_img = (light_img - dark_img) / np.mean(light_img)\n",
    "    img = img / light_img\n",
    "    return img\n",
    "\n",
    "\n",
    "def get_image(image_path):\n",
    "    img_arr = []\n",
    "\n",
    "    for i in range(10):\n",
    "        img_read = cv2.imread(image_path + str(i) + \".png\", cv2.IMREAD_GRAYSCALE)\n",
    "        img_arr.append(img_read)\n",
    "\n",
    "    return np.mean(img_arr, axis=0).astype(np.double)\n",
    "\n",
    "\n",
    "for i in range(10):\n",
    "    img_read = cv2.imread(\"./data/default\" + str(i) + \".png\", cv2.IMREAD_GRAYSCALE)\n",
    "    img_arr.append(img_read)\n",
    "\n",
    "img = np.mean(img_arr, axis=0, dtype=float)\n",
    "print(img)\n",
    "sub_arrays = []\n",
    "slicing_index = []\n",
    "\n",
    "step = 20\n",
    "threshold = 20\n",
    "for i in range(0, len(img[0]) - step, step):\n",
    "    if abs(int(img[0, i + step]) - int(img[0, i])) > threshold:\n",
    "        # print(\"Slicing at index: \" + str(i) + \" with value: \"\n",
    "        #       + str(img[0][i]) + \" and next value: \" + str(img[0][i + 1]))\n",
    "        slicing_index.append(i)\n",
    "        sub_arrays.append(img[:, i-99:i])\n",
    "\n",
    "slicing_index.append(len(img[0]))  # add last index\n",
    "sub_arrays.append(img[:, len(img[0]) - 98:len(img[0]) - 1])\n",
    "\n",
    "print(slicing_index)\n",
    "print(sub_arrays)\n",
    "\n",
    "res_mean = []\n",
    "res_std = []\n",
    "i = 0\n",
    "for x in sub_arrays:\n",
    "    fixed_x = fix_noise(sub_arrays[0][:,90], sub_arrays[4][:,90], x[:, 90])\n",
    "    mean = np.round(np.mean(x), 2)\n",
    "    mean_fixed = np.round(np.mean(fixed_x), 2)\n",
    "    res_mean.append(mean)\n",
    "    std = np.round(np.std(x), 2)\n",
    "    std_fixed = np.round(np.std(fixed_x), 2)\n",
    "    res_std.append(std)\n",
    "\n",
    "    \n",
    "    print(f\"Index: {i} , Mean: {mean}, Std: {std},  Fixed Mean: {mean_fixed}, Fixed Std: {std_fixed}\")\n",
    "    i += 1\n",
    "\n",
    "\n",
    "\n",
    "# visualize sub arrays\n",
    "for i in range(len(sub_arrays)):\n",
    "    cv2.imshow(\"sub_array\" + str(i), sub_arrays[i].astype(np.uint8))\n",
    "cv2.waitKey(0)\n",
    "#cv2.destroyAllWindows()"
   ]
  },
  {
   "cell_type": "markdown",
   "id": "2367a7da",
   "metadata": {},
   "source": []
  },
  {
   "cell_type": "markdown",
   "id": "43d74200",
   "metadata": {},
   "source": [
    "### 2. Aufnahme eines Dunkelbildes"
   ]
  },
  {
   "cell_type": "code",
   "execution_count": null,
   "id": "4d3ea465",
   "metadata": {},
   "outputs": [],
   "source": [
    "def get_image(image_path):\n",
    "    img_arr = []\n",
    "\n",
    "    for i in range(10):\n",
    "        img_read = cv2.imread(image_path + str(i) + \".png\", cv2.IMREAD_GRAYSCALE)\n",
    "        img_arr.append(img_read)\n",
    "\n",
    "    return np.mean(img_arr, axis=0).astype(np.double)\n",
    "\n",
    "\n",
    "def fix_noise(dark_img, light_img, img):\n",
    "    img = img - dark_img\n",
    "    light_img = (light_img - dark_img) / np.mean(light_img)\n",
    "    img = img / light_img\n",
    "    return img\n",
    "\n",
    "\n",
    "res = fix_noise(get_image(\"./data/dark\"), get_image(\"./data/light\"), get_image(\"./data/default\"))\n",
    "print(res)\n",
    "cv2.imshow(\"res\", res.astype(np.uint8))\n",
    "\n",
    "img_dark = get_image(\"./data/dark\")\n",
    "img_light = get_image(\"./data/light\")\n",
    "\n",
    "alpha = 3  # Contrast control (1.0-3.0)\n",
    "beta = 0  # Brightness control (0-100)\n",
    "\n",
    "adjusted_dark = cv2.convertScaleAbs(img_dark, alpha=alpha, beta=beta)\n",
    "adjusted_light = cv2.convertScaleAbs(img_light, alpha=alpha, beta=beta)\n",
    "\n",
    "cv2.imshow('original_dark', img_dark)\n",
    "cv2.imshow('adjusted_dark', adjusted_dark)\n",
    "\n",
    "cv2.imshow('original_light', img_light)\n",
    "cv2.imshow('adjusted_light', adjusted_light)\n",
    "\n",
    "cv2.waitKey(0)\n",
    "#cv2.destroyAllWindows()"
   ]
  },
  {
   "cell_type": "markdown",
   "id": "bda379e6",
   "metadata": {},
   "source": [
    "### 3. Aufnahme eines Weißbildes"
   ]
  },
  {
   "cell_type": "code",
   "execution_count": null,
   "id": "8ada29eb",
   "metadata": {},
   "outputs": [],
   "source": []
  },
  {
   "cell_type": "markdown",
   "id": "f50d40d7",
   "metadata": {},
   "source": [
    "### 4. Pixelfehler"
   ]
  },
  {
   "cell_type": "code",
   "execution_count": null,
   "id": "76e54ceb",
   "metadata": {},
   "outputs": [],
   "source": [
    "def get_hot_pixels():\n",
    "    dark_img = get_image(\"./data/dark\")\n",
    "    return np.any(dark_img[:, :] > 0)\n",
    "\n",
    "\n",
    "def get_stuck_pixels():\n",
    "    dark_img = get_image(\"./data/dark\")\n",
    "    light_img = get_image(\"./data/light\")\n",
    "    return np.any(dark_img[:, :] == light_img[:, :])\n",
    "\n",
    "\n",
    "def get_dead_pixels():\n",
    "    light_img = get_image(\"./data/light\")\n",
    "    return np.any(light_img[:, :] == 0)\n",
    "\n",
    "\n",
    "def get_image(image_path):\n",
    "    img_arr = []\n",
    "\n",
    "    for i in range(10):\n",
    "        img_read = cv2.imread(image_path + str(i) + \".png\", cv2.IMREAD_GRAYSCALE)\n",
    "        img_arr.append(img_read)\n",
    "\n",
    "    return np.mean(img_arr, axis=0).astype(np.double)\n",
    "\n",
    "\n",
    "print(get_hot_pixels())\n",
    "print(get_stuck_pixels())\n",
    "print(get_dead_pixels())"
   ]
  }
 ],
 "metadata": {
  "kernelspec": {
   "display_name": "Python 3 (ipykernel)",
   "language": "python",
   "name": "python3"
  },
  "language_info": {
   "codemirror_mode": {
    "name": "ipython",
    "version": 3
   },
   "file_extension": ".py",
   "mimetype": "text/x-python",
   "name": "python",
   "nbconvert_exporter": "python",
   "pygments_lexer": "ipython3",
   "version": "3.9.18"
  }
 },
 "nbformat": 4,
 "nbformat_minor": 5
}
