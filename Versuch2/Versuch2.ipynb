{
 "cells": [
  {
   "cell_type": "markdown",
   "id": "cfbd976b",
   "metadata": {},
   "source": [
    "# Versuch 2 - Kalibrierung von Digitalkameras\n",
    "\n",
    "Dominik Bartsch, Stefan Ptacek, Niklas Kaiser"
   ]
  },
  {
   "cell_type": "code",
   "execution_count": 2,
   "id": "31c6c2cb",
   "metadata": {},
   "outputs": [],
   "source": [
    "#!python -m pip install opencv-python\n",
    "import cv2\n",
    "import numpy as np"
   ]
  },
  {
   "cell_type": "markdown",
   "id": "aa2cce97",
   "metadata": {},
   "source": [
    "## 1. Aufnahme und Analyse eines Grauwertkeiles\n",
    "### 1.1 Einlesen der Werte aus der Kamera"
   ]
  },
  {
   "cell_type": "code",
   "execution_count": 2,
   "id": "fe46d376",
   "metadata": {},
   "outputs": [
    {
     "name": "stdout",
     "output_type": "stream",
     "text": [
      "frame width: 1920.0\n",
      "frame height: 1080.0\n",
      "--------------------------------\n",
      "brightness: 128.0\n",
      "contrast: 32.0\n",
      "saturation: 64.0\n",
      "--------------------------------\n",
      "gain: -1.0\n",
      "exposure: -6.0\n",
      "--------------------------------\n",
      "white balance: 1.0\n"
     ]
    }
   ],
   "source": [
    "# -------- Aufgabe1.1 -------- #\n",
    "\n",
    "cap = cv2.VideoCapture(0)\n",
    "\n",
    "for i in range(10):\n",
    "    ret, frame = cap.read()\n",
    "    gray = cv2.cvtColor(frame, cv2.COLOR_BGR2GRAY)\n",
    "    cv2.imwrite(\"./data/test\" + str(i) + \".png\", gray)\n",
    "\n",
    "print(\"frame width: \" + str(cap.get(3)))\n",
    "print(\"frame height: \" + str(cap.get(4)))\n",
    "print(\"--------------------------------\")\n",
    "print(\"brightness: \" + str(cap.get(10)))\n",
    "print(\"contrast: \" + str(cap.get(11)))\n",
    "print(\"saturation: \" + str(cap.get(12)))\n",
    "print(\"--------------------------------\")\n",
    "print(\"gain: \" + str(cap.get(14)))\n",
    "print(\"exposure: \" + str(cap.get(15)))\n",
    "print(\"--------------------------------\")\n",
    "print(\"white balance: \" + str(cap.get(17)))\n",
    "\n",
    "cap.release()\n",
    "#cv2.destroyAllWindows()"
   ]
  },
  {
   "cell_type": "markdown",
   "id": "790fd675",
   "metadata": {},
   "source": [
    "### 1.2 Mittelwert und die Standartabweichung"
   ]
  },
  {
   "cell_type": "code",
   "execution_count": 3,
   "id": "85b120bc",
   "metadata": {},
   "outputs": [
    {
     "name": "stdout",
     "output_type": "stream",
     "text": [
      "\t\t| std \t\t| mean\n",
      "-----------------------------------------------------\n",
      "schwarz \t| 2.641622 \t| 29.286991\n",
      "dunkelgrau \t| 2.657652 \t| 68.133286\n",
      "mittelgrau \t| 1.679518 \t| 112.853996\n",
      "hellgrau \t| 2.370252 \t| 151.935501\n",
      "weiß \t\t| 2.986076 \t| 195.880798\n"
     ]
    }
   ],
   "source": [
    "image = cv2.imread(\"./data/dark1.png\")\n",
    "image = image.astype('float32')\n",
    "\n",
    "schwarz = image[0:450,0:130]\n",
    "dunkelgrau = image[:,140:270]\n",
    "mittelgrau = image[:,280:410]\n",
    "hellgrau = image[:,420:540]\n",
    "weiß = image[:,560:640]\n",
    "\n",
    "cv2.imwrite(\"./data/changed/black.png\", schwarz.astype('uint8'))\n",
    "cv2.imwrite(\"./data/changed/dark1.png\", dunkelgrau.astype('uint8'))\n",
    "cv2.imwrite(\"./data/changed/dark2.png\", mittelgrau.astype('uint8'))\n",
    "cv2.imwrite(\"./data/changed/dark3.png\", hellgrau.astype('uint8'))\n",
    "cv2.imwrite(\"./data/changed/white.png\", weiß.astype('uint8'))\n",
    "\n",
    "print(\"\\t\\t| std \\t\\t| mean\")\n",
    "print(\"-----------------------------------------------------\")\n",
    "print(\"schwarz \\t| %f \\t| %f\" %(np.std(schwarz),np.mean(schwarz)))\n",
    "print(\"dunkelgrau \\t| %f \\t| %f\" %(np.std(dunkelgrau),np.mean(dunkelgrau)))\n",
    "print(\"mittelgrau \\t| %f \\t| %f\" %(np.std(mittelgrau),np.mean(mittelgrau)))\n",
    "print(\"hellgrau \\t| %f \\t| %f\" %(np.std(hellgrau),np.mean(hellgrau)))\n",
    "print(\"weiß \\t\\t| %f \\t| %f\" %(np.std(weiß),np.mean(weiß)))"
   ]
  },
  {
   "cell_type": "markdown",
   "id": "43d74200",
   "metadata": {},
   "source": [
    "## 2. Aufnahme eines Dunkelbildes"
   ]
  },
  {
   "cell_type": "code",
   "execution_count": 4,
   "id": "d39304a4-f191-4b5d-9ed0-d21a2c839055",
   "metadata": {},
   "outputs": [
    {
     "data": {
      "text/plain": [
       "True"
      ]
     },
     "execution_count": 4,
     "metadata": {},
     "output_type": "execute_result"
    }
   ],
   "source": [
    "imgpath = \"./data/black\"\n",
    "imgpath2 = \"./data/white0.png\"\n",
    "imgarr = []\n",
    "\n",
    "\n",
    "def pixmean(path):\n",
    "    for i in range(10):\n",
    "        img = cv2.imread(path + str(i) + \".png\", cv2.IMREAD_GRAYSCALE)\n",
    "        imgarr.append(img)\n",
    "\n",
    "    return np.mean(imgarr, axis=0).astype(np.double)\n",
    "\n",
    "darkmean = pixmean(imgpath)\n",
    "cv2.imwrite(\"./data/changed/darkmean.png\", darkmean.astype('uint8'))\n",
    "\n",
    "def submeandark(img):\n",
    "    img = cv2.imread(img, cv2.IMREAD_GRAYSCALE)\n",
    "    return img - darkmean\n",
    "\n",
    "new_img = submeandark(imgpath2)\n",
    "cv2.imwrite(\"./data/changed/fixedimage.png\", new_img.astype('uint8'))"
   ]
  },
  {
   "cell_type": "markdown",
   "id": "dd6fa8ec-d5f4-43bd-80f4-66801e118911",
   "metadata": {},
   "source": [
    "### Mittelwert Dunkelbild:\n",
    "![](data/changed/darkmean.png)\n",
    "\n",
    "### Ausgangsbild\n",
    "![](data/changed/fixedimage.png)"
   ]
  },
  {
   "cell_type": "markdown",
   "id": "1a4b5889",
   "metadata": {},
   "source": [
    "## 3. Aufnahme eines Weißbildes"
   ]
  },
  {
   "cell_type": "code",
   "execution_count": 6,
   "id": "4e833597-6251-4231-9622-695e2735373b",
   "metadata": {},
   "outputs": [
    {
     "data": {
      "text/plain": [
       "True"
      ]
     },
     "execution_count": 6,
     "metadata": {},
     "output_type": "execute_result"
    }
   ],
   "source": [
    "def get_image(image_path):\n",
    "    img_arr = []\n",
    "\n",
    "    for i in range(10):\n",
    "        img_read = cv2.imread(image_path + str(i) + \".png\", cv2.IMREAD_GRAYSCALE)\n",
    "        img_arr.append(img_read)\n",
    "\n",
    "    return np.mean(img_arr, axis=0).astype(np.double)\n",
    "\n",
    "\n",
    "def fix_noise(dark_img, light_img, img):\n",
    "    img = img - dark_img\n",
    "    light_img = (light_img - dark_img) / np.mean(light_img)\n",
    "    img = img / light_img\n",
    "    return img\n",
    "\n",
    "\n",
    "def bildKontrastMaximiert(img, filename):\n",
    "    imgCorrected = np.zeros(shape=(len(img), len(img[0])))\n",
    "    min = np.min(img)\n",
    "    max = np.max(img)\n",
    "    for i in range(480):\n",
    "        for j in range(640):\n",
    "            imgCorrected[i][j] = img[i][j] - min\n",
    "            if max > min:\n",
    "                imgCorrected[i][j] = imgCorrected[i][j] * (255 / (max - min))\n",
    "            else:\n",
    "                imgCorrected[i][j] = imgCorrected[i][j] * 255\n",
    "\n",
    "    cv2.imwrite(\"data/changed/\" + filename + \".png\", imgCorrected.astype('float32'))\n",
    "\n",
    "    count = 0\n",
    "    for i in range(len(img)):\n",
    "        for j in range(len(img[0])):\n",
    "            if img[i][j] == imgCorrected[i][j]:\n",
    "                count += 1\n",
    "    return imgCorrected\n",
    "\n",
    "\n",
    "imagedb = get_image(\"./data/black\") #dunkelbild\n",
    "# imagedb = imagedb.astype('float32')\n",
    "\n",
    "imagewb = get_image(\"./data/white\") #weißbild\n",
    "# imagewb = imagewb.astype('float32')\n",
    "\n",
    "imagegrauwert = cv2.imread(\"./data/dark1.png\", cv2.IMREAD_GRAYSCALE) # grauwertkeil\n",
    "imagegrauwert = imagegrauwert.astype('float32')\n",
    "\n",
    "\n",
    "eingangsbildname = \"dark1\"\n",
    "imageub = cv2.imread(\"./data/\" + eingangsbildname + \".png\", cv2.IMREAD_GRAYSCALE) #unbearbeitetes einlesebild\n",
    "imageub = imageub.astype('float32')\n",
    "\n",
    "darksubtract = np.subtract(imageub,imagedb) # Dunkelbild von Eingangsbild abziehen\n",
    "\n",
    "cv2.imwrite(\"./data/changed/black_bearbeitet.png\", darksubtract.astype('float32'))\n",
    "\n",
    "imgCorrected = bildKontrastMaximiert(np.subtract(imagewb, imagedb), \"white_kontrastmaximiert\")\n",
    "\n",
    "\n",
    "darkImagesGray = []\n",
    "for i in range(10):\n",
    "    image = cv2.imread('./data/dark{}.png'.format(i))\n",
    "    darkImagesGray.append(cv2.cvtColor(image, cv2.COLOR_BGR2GRAY))\n",
    "\n",
    "\n",
    "def pixelwiseMeanAndSave(arr, filename):\n",
    "    imageMean = np.zeros(shape=(len(arr[0]), len(arr[0][0])))\n",
    "\n",
    "    for i in range(len(arr[0])):\n",
    "        line = []\n",
    "        for j in range(len(arr[0][0])):\n",
    "            values = []\n",
    "            for k in range(len(arr)):\n",
    "                values.append(arr[k][i][j])\n",
    "            line.append(np.mean(values))\n",
    "        imageMean[i] = line\n",
    "    #cv2.imwrite('{}.png'.format(filename), imageMean)\n",
    "\n",
    "    return imageMean\n",
    "\n",
    "\n",
    "darkImageMean = pixelwiseMeanAndSave(darkImagesGray, \"Dunkelbild\")\n",
    "\n",
    "def pixelwiseMeanAndSave(arr, filename):\n",
    "    imageMean = np.zeros(shape=(len(arr[0]), len(arr[0][0])))\n",
    "\n",
    "    for i in range(len(arr[0])):\n",
    "        line = []\n",
    "        for j in range(len(arr[0][0])):\n",
    "            values = []\n",
    "            for k in range(len(arr)):\n",
    "                values.append(arr[k][i][j])\n",
    "            line.append(np.mean(values))\n",
    "        imageMean[i] = line\n",
    "    #cv2.imwrite('{}.png'.format(filename), imageMean)\n",
    "\n",
    "    return imageMean\n",
    "\n",
    "def subtractAndSaveAs(img, darkImg, filename):\n",
    "    subImg = np.zeros(shape=(len(img), len(img[0])))\n",
    "\n",
    "    for i in range(len(img)):\n",
    "        for j in range(len(img[0])):\n",
    "            subImg[i][j] = img[i][j] - darkImg[i][j]\n",
    "\n",
    "    #cv2.imwrite('{}.png'.format(filename), subImg)\n",
    "    return subImg\n",
    "\n",
    "whiteImagesGray = []\n",
    "for i in range(10):\n",
    "    image = cv2.imread('./data/white{}.png'.format(i))\n",
    "    whiteImagesGray.append(cv2.cvtColor(image, cv2.COLOR_BGR2GRAY))\n",
    "\n",
    "imgWhiteMean = pixelwiseMeanAndSave(whiteImagesGray, \"Weissbild\")\n",
    "imgWhiteMean = subtractAndSaveAs(imgWhiteMean, darkImageMean, \"Weissbild\")\n",
    "\n",
    "meanwhite = np.divide(imgWhiteMean, np.mean(imgWhiteMean)) # Weißbild normiert mit Mittelwert zu 1\n",
    "#print(np.mean(imgCorrected))\n",
    "cv2.imwrite(\"./data/changed/meanwhitebearbeitet.png\", imagewb.astype('float32'))\n",
    "\n",
    "fin = np.zeros(shape=(len(imagegrauwert), len(imagegrauwert[0])))\n",
    "\n",
    "for i in range(len(imagegrauwert)):\n",
    "    for j in range(len(imagegrauwert[0])):\n",
    "        if meanwhite[i][j] > 0:\n",
    "            fin[i][j] = float(imagegrauwert[i][j]) / float(meanwhite[i][j])\n",
    "        else:\n",
    "            print(\"Deadpixel x/y: {}/{}\".format(j, i))\n",
    "            fin[i][j] = float(imagegrauwert[i][j])\n",
    "\n",
    "\n",
    "cv2.imwrite(\"./data/changed/\" + eingangsbildname + \"_bearbeitet.png\", fin)"
   ]
  },
  {
   "cell_type": "markdown",
   "id": "852641cf-29a4-4e66-b596-dee833b80e50",
   "metadata": {},
   "source": [
    "### Kontrastmaximiertes Weißbild:\n",
    "![](./data/changed/white_kontrastmaximiert.png)\n",
    "\n",
    "### Eingangsbild\n",
    "![](./data/dark1.png)\n",
    "\n",
    "### Korrigiertes Eingangsbild\n",
    "![](./dunkelbild.png)"
   ]
  },
  {
   "cell_type": "markdown",
   "id": "f50d40d7",
   "metadata": {},
   "source": [
    "## 4. Pixelfehler"
   ]
  },
  {
   "cell_type": "code",
   "execution_count": 24,
   "id": "76e54ceb",
   "metadata": {},
   "outputs": [
    {
     "name": "stdout",
     "output_type": "stream",
     "text": [
      "Are there Hotpixels? No\n",
      "Are there Stuckpixels? No\n",
      "Are there Deadpixels? No\n"
     ]
    }
   ],
   "source": [
    "def get_hot_pixels():\n",
    "    dark_img = get_image(\"./data/black\")\n",
    "    return np.any(dark_img[:, :] > 0)\n",
    "\n",
    "\n",
    "def get_stuck_pixels():\n",
    "    dark_img = get_image(\"./data/black\")\n",
    "    light_img = get_image(\"./data/white\")\n",
    "    return np.any(dark_img[:, :] == light_img[:, :])\n",
    "\n",
    "\n",
    "def get_dead_pixels():\n",
    "    light_img = get_image(\"./data/white\")\n",
    "    return np.any(light_img[:, :] == 0)\n",
    "\n",
    "\n",
    "def get_image(image_path):\n",
    "    img_arr = []\n",
    "\n",
    "    for i in range(10):\n",
    "        img_read = cv2.imread(image_path + str(i) + \".png\", cv2.IMREAD_GRAYSCALE)\n",
    "        img_arr.append(img_read)\n",
    "\n",
    "    return np.mean(img_arr, axis=0).astype(np.double)\n",
    "\n",
    "\n",
    "print(\"Are there Hotpixels? \" + (\"Yes\" if get_hot_pixels() else \"No\"))\n",
    "print(\"Are there Stuckpixels? \" + (\"Yes\" if get_stuck_pixels() else \"No\"))\n",
    "print(\"Are there Deadpixels? \" + (\"Yes\" if get_dead_pixels() else \"No\"))"
   ]
  },
  {
   "cell_type": "code",
   "execution_count": 8,
   "id": "49e206f6-cf4e-438e-8f8f-c70bf6ad9bb9",
   "metadata": {},
   "outputs": [
    {
     "name": "stdout",
     "output_type": "stream",
     "text": [
      "\t\t| std \t\t| mean\n",
      "-----------------------------------------------------\n",
      "schwarz \t| 2.133742 \t| 29.205402\n",
      "dunkelgrau \t| 2.261158 \t| 68.050980\n",
      "mittelgrau \t| 1.468097 \t| 112.709122\n",
      "hellgrau \t| 2.043680 \t| 151.782059\n",
      "weiß \t\t| 2.629327 \t| 195.660965\n"
     ]
    }
   ],
   "source": [
    "image = cv2.imread(\"./dunkelbild.png\").astype('float32')\n",
    "\n",
    "schwarz = image[0:450,0:130]\n",
    "dunkelgrau = image[:,140:270]\n",
    "mittelgrau = image[:,280:410]\n",
    "hellgrau = image[:,420:540]\n",
    "weiß = image[:,560:640]\n",
    "\n",
    "cv2.imwrite(\"./data/changed/4black.png\", schwarz.astype('uint8'))\n",
    "cv2.imwrite(\"./data/changed/4dark1.png\", dunkelgrau.astype('uint8'))\n",
    "cv2.imwrite(\"./data/changed/4dark2.png\", mittelgrau.astype('uint8'))\n",
    "cv2.imwrite(\"./data/changed/4dark3.png\", hellgrau.astype('uint8'))\n",
    "cv2.imwrite(\"./data/changed/4white.png\", weiß.astype('uint8'))\n",
    "\n",
    "print(\"\\t\\t| std \\t\\t| mean\")\n",
    "print(\"-----------------------------------------------------\")\n",
    "print(\"schwarz \\t| %f \\t| %f\" %(np.std(schwarz),np.mean(schwarz)))\n",
    "print(\"dunkelgrau \\t| %f \\t| %f\" %(np.std(dunkelgrau),np.mean(dunkelgrau)))\n",
    "print(\"mittelgrau \\t| %f \\t| %f\" %(np.std(mittelgrau),np.mean(mittelgrau)))\n",
    "print(\"hellgrau \\t| %f \\t| %f\" %(np.std(hellgrau),np.mean(hellgrau)))\n",
    "print(\"weiß \\t\\t| %f \\t| %f\" %(np.std(weiß),np.mean(weiß)))"
   ]
  },
  {
   "cell_type": "markdown",
   "id": "a7313eb0-656a-4e89-97dc-7544f573f1f6",
   "metadata": {},
   "source": [
    "### Korrigierter Grauwertkeil\n",
    "![](./dunkelbild.png)\n",
    "\n",
    "Todo:\n",
    "- Kontrastmaximierung bei Weißbild\n",
    "- Weißbildkorrektur"
   ]
  }
 ],
 "metadata": {
  "kernelspec": {
   "display_name": "Python 3 (ipykernel)",
   "language": "python",
   "name": "python3"
  },
  "language_info": {
   "codemirror_mode": {
    "name": "ipython",
    "version": 3
   },
   "file_extension": ".py",
   "mimetype": "text/x-python",
   "name": "python",
   "nbconvert_exporter": "python",
   "pygments_lexer": "ipython3",
   "version": "3.9.18"
  }
 },
 "nbformat": 4,
 "nbformat_minor": 5
}
