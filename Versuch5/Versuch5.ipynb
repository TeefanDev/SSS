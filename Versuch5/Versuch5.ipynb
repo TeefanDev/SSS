{
 "cells": [
  {
   "cell_type": "markdown",
   "id": "1d66ddc5",
   "metadata": {},
   "source": [
    "# Versuch 5\n",
    "# Digitalisierung"
   ]
  },
  {
   "cell_type": "code",
   "execution_count": 5,
   "id": "2aec0b55",
   "metadata": {},
   "outputs": [
    {
     "name": "stdout",
     "output_type": "stream",
     "text": [
      "Requirement already satisfied: pandas in c:\\users\\stefa\\anaconda3\\envs\\sss\\lib\\site-packages (2.1.4)\n",
      "Requirement already satisfied: numpy<2,>=1.22.4 in c:\\users\\stefa\\anaconda3\\envs\\sss\\lib\\site-packages (from pandas) (1.26.0)\n",
      "Requirement already satisfied: python-dateutil>=2.8.2 in c:\\users\\stefa\\anaconda3\\envs\\sss\\lib\\site-packages (from pandas) (2.8.2)\n",
      "Requirement already satisfied: pytz>=2020.1 in c:\\users\\stefa\\anaconda3\\envs\\sss\\lib\\site-packages (from pandas) (2023.3.post1)\n",
      "Requirement already satisfied: tzdata>=2022.1 in c:\\users\\stefa\\anaconda3\\envs\\sss\\lib\\site-packages (from pandas) (2023.3)\n",
      "Requirement already satisfied: six>=1.5 in c:\\users\\stefa\\anaconda3\\envs\\sss\\lib\\site-packages (from python-dateutil>=2.8.2->pandas) (1.16.0)\n"
     ]
    }
   ],
   "source": [
    "import math\n",
    "\n",
    "import matplotlib.pyplot as plt\n",
    "\n",
    "import csv\n",
    "import numpy as np\n",
    "\n",
    "#import redlab as rl\n",
    "import time\n",
    "import matplotlib.pyplot as plt"
   ]
  },
  {
   "cell_type": "markdown",
   "id": "c0fe4da1",
   "metadata": {},
   "source": [
    "## Aufgabe 1"
   ]
  },
  {
   "cell_type": "code",
   "execution_count": null,
   "id": "93bb2595",
   "metadata": {},
   "outputs": [],
   "source": [
    "# -*- coding: utf-8 -*-\n",
    "\n",
    "\n",
    "\n",
    "\n",
    "def plotMessreihe(messreihe, filename):\n",
    "    plt.title(\"Messreihe \" + filename)\n",
    "    plt.xlabel(\"Zeit (ms)\")\n",
    "    plt.ylabel(\"Volt (V)\")\n",
    "    \n",
    "    plt.plot(messreihe)\n",
    "    plt.savefig('PNG/plt' + filename + '.png', dpi=900)\n",
    "    plt.show()\n",
    "    \n",
    "\n",
    "sin = []\n",
    "\n",
    "for i in range(30):\n",
    "    sin.append(np.sin(2*np.pi / 30 * i) + 1)\n",
    "\n",
    "while(True):\n",
    "    print(\"Wert eingeben\")\n",
    "    wert = input()\n",
    "    \n",
    "    if wert == -1:\n",
    "        break\n",
    "    \n",
    "    print(\"------- einzelne Werte -------------------------\")\n",
    "    #print(\"16 Bit Value: \" + str(rl.cbAIn(0,0,1)))\n",
    "    print(\"Voltage Value: \" + str(rl.cbVIn(0,0,1)))\n",
    "    print(\"------- Messreihe -------------------------\")\n",
    "    print(\"Messreihe: \" + str(rl.cbAInScan(0,0,0,300,8000,1)))\n",
    "    print(\"Messreihe: \" + str(rl.cbVInScan(0,0,0,300,8000,1)))\n",
    "    messreihe = rl.cbVInScan(0,0,0,1000,8000,1)\n",
    "    print(\"------- Ausgabe -------------------------\")\n",
    "    #print(\"Voltage Value: \" + str(rl.cbVOut(0,0,101,2.5)))\n",
    "    #print(\"Voltage Value: \" + str(rl.cbVOut(0,0,101,wert)))\n",
    "    \n",
    "    plotMessreihe(messreihe, wert)\n",
    "    \n",
    "while(True):\n",
    "    for i in sin:\n",
    "        rl.cbVOut(0,0,101,i)\n",
    "        time.sleep(0.01)\n"
   ]
  },
  {
   "cell_type": "markdown",
   "id": "063b7d78",
   "metadata": {},
   "source": [
    "[test](PNG/plt2000.png)\n",
    "[test](PNG/plt3000.png)\n",
    "[test](PNG/plt4000.png)\n",
    "[test](PNG/plt5000.png)\n",
    "[test](PNG/plt6000.png)\n",
    "[test](PNG/plt7000.png)\n",
    "[test](PNG/plt8000.png)"
   ]
  },
  {
   "cell_type": "markdown",
   "id": "54a9fd7b",
   "metadata": {},
   "source": [
    "## Aufgabe 2"
   ]
  },
  {
   "cell_type": "code",
   "execution_count": 7,
   "id": "eecbc487",
   "metadata": {},
   "outputs": [
    {
     "ename": "ImportError",
     "evalue": "Missing optional dependency 'openpyxl'.  Use pip or conda to install openpyxl.",
     "output_type": "error",
     "traceback": [
      "\u001b[1;31m---------------------------------------------------------------------------\u001b[0m",
      "\u001b[1;31mModuleNotFoundError\u001b[0m                       Traceback (most recent call last)",
      "File \u001b[1;32m~\\anaconda3\\envs\\SSS\\lib\\site-packages\\pandas\\compat\\_optional.py:132\u001b[0m, in \u001b[0;36mimport_optional_dependency\u001b[1;34m(name, extra, errors, min_version)\u001b[0m\n\u001b[0;32m    131\u001b[0m \u001b[38;5;28;01mtry\u001b[39;00m:\n\u001b[1;32m--> 132\u001b[0m     module \u001b[38;5;241m=\u001b[39m \u001b[43mimportlib\u001b[49m\u001b[38;5;241;43m.\u001b[39;49m\u001b[43mimport_module\u001b[49m\u001b[43m(\u001b[49m\u001b[43mname\u001b[49m\u001b[43m)\u001b[49m\n\u001b[0;32m    133\u001b[0m \u001b[38;5;28;01mexcept\u001b[39;00m \u001b[38;5;167;01mImportError\u001b[39;00m:\n",
      "File \u001b[1;32m~\\anaconda3\\envs\\SSS\\lib\\importlib\\__init__.py:127\u001b[0m, in \u001b[0;36mimport_module\u001b[1;34m(name, package)\u001b[0m\n\u001b[0;32m    126\u001b[0m         level \u001b[38;5;241m+\u001b[39m\u001b[38;5;241m=\u001b[39m \u001b[38;5;241m1\u001b[39m\n\u001b[1;32m--> 127\u001b[0m \u001b[38;5;28;01mreturn\u001b[39;00m \u001b[43m_bootstrap\u001b[49m\u001b[38;5;241;43m.\u001b[39;49m\u001b[43m_gcd_import\u001b[49m\u001b[43m(\u001b[49m\u001b[43mname\u001b[49m\u001b[43m[\u001b[49m\u001b[43mlevel\u001b[49m\u001b[43m:\u001b[49m\u001b[43m]\u001b[49m\u001b[43m,\u001b[49m\u001b[43m \u001b[49m\u001b[43mpackage\u001b[49m\u001b[43m,\u001b[49m\u001b[43m \u001b[49m\u001b[43mlevel\u001b[49m\u001b[43m)\u001b[49m\n",
      "File \u001b[1;32m<frozen importlib._bootstrap>:1030\u001b[0m, in \u001b[0;36m_gcd_import\u001b[1;34m(name, package, level)\u001b[0m\n",
      "File \u001b[1;32m<frozen importlib._bootstrap>:1007\u001b[0m, in \u001b[0;36m_find_and_load\u001b[1;34m(name, import_)\u001b[0m\n",
      "File \u001b[1;32m<frozen importlib._bootstrap>:984\u001b[0m, in \u001b[0;36m_find_and_load_unlocked\u001b[1;34m(name, import_)\u001b[0m\n",
      "\u001b[1;31mModuleNotFoundError\u001b[0m: No module named 'openpyxl'",
      "\nDuring handling of the above exception, another exception occurred:\n",
      "\u001b[1;31mImportError\u001b[0m                               Traceback (most recent call last)",
      "Cell \u001b[1;32mIn[7], line 1\u001b[0m\n\u001b[1;32m----> 1\u001b[0m df \u001b[38;5;241m=\u001b[39m \u001b[43mpd\u001b[49m\u001b[38;5;241;43m.\u001b[39;49m\u001b[43mread_excel\u001b[49m\u001b[43m(\u001b[49m\u001b[38;5;124;43m'\u001b[39;49m\u001b[38;5;124;43mdaten.xlsx\u001b[39;49m\u001b[38;5;124;43m'\u001b[39;49m\u001b[43m,\u001b[49m\u001b[43m \u001b[49m\u001b[43mheader\u001b[49m\u001b[38;5;241;43m=\u001b[39;49m\u001b[38;5;28;43;01mNone\u001b[39;49;00m\u001b[43m)\u001b[49m\n\u001b[0;32m      2\u001b[0m n \u001b[38;5;241m=\u001b[39m df\u001b[38;5;241m.\u001b[39mto_numpy()\n\u001b[0;32m      4\u001b[0m voltage_ad \u001b[38;5;241m=\u001b[39m []\n",
      "File \u001b[1;32m~\\anaconda3\\envs\\SSS\\lib\\site-packages\\pandas\\io\\excel\\_base.py:504\u001b[0m, in \u001b[0;36mread_excel\u001b[1;34m(io, sheet_name, header, names, index_col, usecols, dtype, engine, converters, true_values, false_values, skiprows, nrows, na_values, keep_default_na, na_filter, verbose, parse_dates, date_parser, date_format, thousands, decimal, comment, skipfooter, storage_options, dtype_backend, engine_kwargs)\u001b[0m\n\u001b[0;32m    502\u001b[0m \u001b[38;5;28;01mif\u001b[39;00m \u001b[38;5;129;01mnot\u001b[39;00m \u001b[38;5;28misinstance\u001b[39m(io, ExcelFile):\n\u001b[0;32m    503\u001b[0m     should_close \u001b[38;5;241m=\u001b[39m \u001b[38;5;28;01mTrue\u001b[39;00m\n\u001b[1;32m--> 504\u001b[0m     io \u001b[38;5;241m=\u001b[39m \u001b[43mExcelFile\u001b[49m\u001b[43m(\u001b[49m\n\u001b[0;32m    505\u001b[0m \u001b[43m        \u001b[49m\u001b[43mio\u001b[49m\u001b[43m,\u001b[49m\n\u001b[0;32m    506\u001b[0m \u001b[43m        \u001b[49m\u001b[43mstorage_options\u001b[49m\u001b[38;5;241;43m=\u001b[39;49m\u001b[43mstorage_options\u001b[49m\u001b[43m,\u001b[49m\n\u001b[0;32m    507\u001b[0m \u001b[43m        \u001b[49m\u001b[43mengine\u001b[49m\u001b[38;5;241;43m=\u001b[39;49m\u001b[43mengine\u001b[49m\u001b[43m,\u001b[49m\n\u001b[0;32m    508\u001b[0m \u001b[43m        \u001b[49m\u001b[43mengine_kwargs\u001b[49m\u001b[38;5;241;43m=\u001b[39;49m\u001b[43mengine_kwargs\u001b[49m\u001b[43m,\u001b[49m\n\u001b[0;32m    509\u001b[0m \u001b[43m    \u001b[49m\u001b[43m)\u001b[49m\n\u001b[0;32m    510\u001b[0m \u001b[38;5;28;01melif\u001b[39;00m engine \u001b[38;5;129;01mand\u001b[39;00m engine \u001b[38;5;241m!=\u001b[39m io\u001b[38;5;241m.\u001b[39mengine:\n\u001b[0;32m    511\u001b[0m     \u001b[38;5;28;01mraise\u001b[39;00m \u001b[38;5;167;01mValueError\u001b[39;00m(\n\u001b[0;32m    512\u001b[0m         \u001b[38;5;124m\"\u001b[39m\u001b[38;5;124mEngine should not be specified when passing \u001b[39m\u001b[38;5;124m\"\u001b[39m\n\u001b[0;32m    513\u001b[0m         \u001b[38;5;124m\"\u001b[39m\u001b[38;5;124man ExcelFile - ExcelFile already has the engine set\u001b[39m\u001b[38;5;124m\"\u001b[39m\n\u001b[0;32m    514\u001b[0m     )\n",
      "File \u001b[1;32m~\\anaconda3\\envs\\SSS\\lib\\site-packages\\pandas\\io\\excel\\_base.py:1580\u001b[0m, in \u001b[0;36mExcelFile.__init__\u001b[1;34m(self, path_or_buffer, engine, storage_options, engine_kwargs)\u001b[0m\n\u001b[0;32m   1577\u001b[0m \u001b[38;5;28mself\u001b[39m\u001b[38;5;241m.\u001b[39mengine \u001b[38;5;241m=\u001b[39m engine\n\u001b[0;32m   1578\u001b[0m \u001b[38;5;28mself\u001b[39m\u001b[38;5;241m.\u001b[39mstorage_options \u001b[38;5;241m=\u001b[39m storage_options\n\u001b[1;32m-> 1580\u001b[0m \u001b[38;5;28mself\u001b[39m\u001b[38;5;241m.\u001b[39m_reader \u001b[38;5;241m=\u001b[39m \u001b[38;5;28;43mself\u001b[39;49m\u001b[38;5;241;43m.\u001b[39;49m\u001b[43m_engines\u001b[49m\u001b[43m[\u001b[49m\u001b[43mengine\u001b[49m\u001b[43m]\u001b[49m\u001b[43m(\u001b[49m\n\u001b[0;32m   1581\u001b[0m \u001b[43m    \u001b[49m\u001b[38;5;28;43mself\u001b[39;49m\u001b[38;5;241;43m.\u001b[39;49m\u001b[43m_io\u001b[49m\u001b[43m,\u001b[49m\n\u001b[0;32m   1582\u001b[0m \u001b[43m    \u001b[49m\u001b[43mstorage_options\u001b[49m\u001b[38;5;241;43m=\u001b[39;49m\u001b[43mstorage_options\u001b[49m\u001b[43m,\u001b[49m\n\u001b[0;32m   1583\u001b[0m \u001b[43m    \u001b[49m\u001b[43mengine_kwargs\u001b[49m\u001b[38;5;241;43m=\u001b[39;49m\u001b[43mengine_kwargs\u001b[49m\u001b[43m,\u001b[49m\n\u001b[0;32m   1584\u001b[0m \u001b[43m\u001b[49m\u001b[43m)\u001b[49m\n",
      "File \u001b[1;32m~\\anaconda3\\envs\\SSS\\lib\\site-packages\\pandas\\io\\excel\\_openpyxl.py:552\u001b[0m, in \u001b[0;36mOpenpyxlReader.__init__\u001b[1;34m(self, filepath_or_buffer, storage_options, engine_kwargs)\u001b[0m\n\u001b[0;32m    534\u001b[0m \u001b[38;5;129m@doc\u001b[39m(storage_options\u001b[38;5;241m=\u001b[39m_shared_docs[\u001b[38;5;124m\"\u001b[39m\u001b[38;5;124mstorage_options\u001b[39m\u001b[38;5;124m\"\u001b[39m])\n\u001b[0;32m    535\u001b[0m \u001b[38;5;28;01mdef\u001b[39;00m \u001b[38;5;21m__init__\u001b[39m(\n\u001b[0;32m    536\u001b[0m     \u001b[38;5;28mself\u001b[39m,\n\u001b[1;32m   (...)\u001b[0m\n\u001b[0;32m    539\u001b[0m     engine_kwargs: \u001b[38;5;28mdict\u001b[39m \u001b[38;5;241m|\u001b[39m \u001b[38;5;28;01mNone\u001b[39;00m \u001b[38;5;241m=\u001b[39m \u001b[38;5;28;01mNone\u001b[39;00m,\n\u001b[0;32m    540\u001b[0m ) \u001b[38;5;241m-\u001b[39m\u001b[38;5;241m>\u001b[39m \u001b[38;5;28;01mNone\u001b[39;00m:\n\u001b[0;32m    541\u001b[0m \u001b[38;5;250m    \u001b[39m\u001b[38;5;124;03m\"\"\"\u001b[39;00m\n\u001b[0;32m    542\u001b[0m \u001b[38;5;124;03m    Reader using openpyxl engine.\u001b[39;00m\n\u001b[0;32m    543\u001b[0m \n\u001b[1;32m   (...)\u001b[0m\n\u001b[0;32m    550\u001b[0m \u001b[38;5;124;03m        Arbitrary keyword arguments passed to excel engine.\u001b[39;00m\n\u001b[0;32m    551\u001b[0m \u001b[38;5;124;03m    \"\"\"\u001b[39;00m\n\u001b[1;32m--> 552\u001b[0m     \u001b[43mimport_optional_dependency\u001b[49m\u001b[43m(\u001b[49m\u001b[38;5;124;43m\"\u001b[39;49m\u001b[38;5;124;43mopenpyxl\u001b[39;49m\u001b[38;5;124;43m\"\u001b[39;49m\u001b[43m)\u001b[49m\n\u001b[0;32m    553\u001b[0m     \u001b[38;5;28msuper\u001b[39m()\u001b[38;5;241m.\u001b[39m\u001b[38;5;21m__init__\u001b[39m(\n\u001b[0;32m    554\u001b[0m         filepath_or_buffer,\n\u001b[0;32m    555\u001b[0m         storage_options\u001b[38;5;241m=\u001b[39mstorage_options,\n\u001b[0;32m    556\u001b[0m         engine_kwargs\u001b[38;5;241m=\u001b[39mengine_kwargs,\n\u001b[0;32m    557\u001b[0m     )\n",
      "File \u001b[1;32m~\\anaconda3\\envs\\SSS\\lib\\site-packages\\pandas\\compat\\_optional.py:135\u001b[0m, in \u001b[0;36mimport_optional_dependency\u001b[1;34m(name, extra, errors, min_version)\u001b[0m\n\u001b[0;32m    133\u001b[0m \u001b[38;5;28;01mexcept\u001b[39;00m \u001b[38;5;167;01mImportError\u001b[39;00m:\n\u001b[0;32m    134\u001b[0m     \u001b[38;5;28;01mif\u001b[39;00m errors \u001b[38;5;241m==\u001b[39m \u001b[38;5;124m\"\u001b[39m\u001b[38;5;124mraise\u001b[39m\u001b[38;5;124m\"\u001b[39m:\n\u001b[1;32m--> 135\u001b[0m         \u001b[38;5;28;01mraise\u001b[39;00m \u001b[38;5;167;01mImportError\u001b[39;00m(msg)\n\u001b[0;32m    136\u001b[0m     \u001b[38;5;28;01mreturn\u001b[39;00m \u001b[38;5;28;01mNone\u001b[39;00m\n\u001b[0;32m    138\u001b[0m \u001b[38;5;66;03m# Handle submodules: if we have submodule, grab parent module from sys.modules\u001b[39;00m\n",
      "\u001b[1;31mImportError\u001b[0m: Missing optional dependency 'openpyxl'.  Use pip or conda to install openpyxl."
     ]
    }
   ],
   "source": [
    "df = pd.read_excel('daten.xlsx', header=None)\n",
    "n = df.to_numpy()\n",
    "\n",
    "voltage_ad = []\n",
    "keithley_ad = []\n",
    "multi_ad = []\n",
    "wandler_ad = []\n",
    "pico_ad = []\n",
    "\n",
    "voltage_da = []\n",
    "keithley_da = []\n",
    "multi_da = []\n",
    "pico_da = []\n",
    "\n",
    "for i in range(1, len(n)):\n",
    "    if i < len(n) - 1:\n",
    "        voltage_ad.append(n[i][0])\n",
    "        keithley_ad.append(n[i][1])\n",
    "        multi_ad.append(n[i][2])\n",
    "        wandler_ad.append(n[i][3])\n",
    "        pico_ad.append(n[i][4])\n",
    "    voltage_da.append(n[i][6])\n",
    "    keithley_da.append(n[i][7])\n",
    "    multi_da.append(n[i][8])\n",
    "    pico_da.append(n[i][9])\n",
    "\n",
    "\n",
    "def main():\n",
    "    # Aufgabe 2 Messfehler berechnen AD-Wandlung\n",
    "    messfehler_multi = get_messfehler(keithley_ad, multi_ad)\n",
    "    messfehler_wandler = get_messfehler(keithley_ad, wandler_ad)\n",
    "    std_multi = get_standardabweichung(messfehler_multi)\n",
    "    std_wandler = get_standardabweichung(messfehler_wandler)\n",
    "\n",
    "    print(\"AD-Wandlung\")\n",
    "    print(\"Theoretischer Quantisierungsfehler: \" + str(theoretischer_quantisierungsfehler(-10, 10, 11)))\n",
    "    print(\"Standardabweichung Multimeter Voltcraft: \" + str(std_multi))\n",
    "    print(\"Standardabweichung AD-Wandler: \" + str(std_wandler) + \"\\n\")\n",
    "\n",
    "    # Aufgabe 3 Messfehler berechnen DA-Wandlung\n",
    "    messfehler_m = get_messfehler(voltage_da, keithley_da)\n",
    "    # messfehler_multi = get_messfehler(keithley_da, multi_da)\n",
    "    # messfehler_pico = get_messfehler(keithley_da, pico_da)\n",
    "    std_m = get_standardabweichung(messfehler_m)\n",
    "    # std_multi = get_standardabweichung(messfehler_multi)\n",
    "    # std_pico = get_standardabweichung(messfehler_pico)\n",
    "\n",
    "    print(\"DA-Wandlung\")\n",
    "    print(\"Theoretischer Quantisierungsfehler: \" + str(theoretischer_quantisierungsfehler(0, 5, 10)))\n",
    "    print(\"Standardabweichung: \" + str(std_m))\n",
    "    # print(\"Standardabweichung Multimeter Voltcraft: \" + str(std_multi))\n",
    "    # print(\"Standardabweichung PicoScope: \" + str(std_pico) + \"\\n\")\n",
    "\n",
    "    plot_sin()\n",
    "\n",
    "    for i in range(2, 9):\n",
    "        if i < 5:\n",
    "            plot_kurve(\"plt\" + str(i) + \"000\", 50)\n",
    "        elif i < 8:\n",
    "            plot_kurve(\"plt\" + str(i) + \"000\", 100)\n",
    "        else:\n",
    "            plot_kurve(\"plt\" + str(i) + \"000\", 1000)\n",
    "\n",
    "\n",
    "def theoretischer_quantisierungsfehler(u_min, u_max, bit):\n",
    "    return (u_max - u_min) / 2**bit\n",
    "\n",
    "\n",
    "# Arrays übergeben, gibt Array mit den Messfehlern zurück\n",
    "def get_messfehler(ref, arr):\n",
    "    messfehler = []\n",
    "    for i in range(0, len(ref)):\n",
    "        messfehler.append(ref[i] - arr[i])\n",
    "\n",
    "    return messfehler\n",
    "\n",
    "\n",
    "def get_standardabweichung(messfehler):\n",
    "    sum = 0.0\n",
    "    for m in messfehler:\n",
    "        sum += m**2\n",
    "\n",
    "    return math.sqrt((1.0 / (len(messfehler) - 1.0)) * sum)\n",
    "\n",
    "\n",
    "def plot_sin():\n",
    "    values_x = []\n",
    "    values_y = []\n",
    "    with open('sinus_pico.csv', newline='') as csvfile:\n",
    "        messung = list(csv.reader(csvfile, delimiter=';'))\n",
    "\n",
    "        for i in range(3, len(messung)):\n",
    "            values_x.append(float(messung[i][0].replace(\",\", \".\")))\n",
    "            values_y.append(float(messung[i][1].replace(\",\", \".\")))\n",
    "\n",
    "    plt.title(\"Sinus\")\n",
    "    plt.xlabel(\"ms\")\n",
    "    plt.ylabel(\"Volt\")\n",
    "    plt.plot(values_x, values_y)\n",
    "    plt.savefig(\"Sinusschwingung.png\", dpi=900)\n",
    "    plt.show()\n",
    "\n",
    "\n",
    "def plot_kurve(name, samples):\n",
    "    arr = np.load('PltData/' + name + '.npy')\n",
    "\n",
    "    plt.title(name)\n",
    "    plt.xlabel(\"Samples\")\n",
    "    plt.ylabel(\"Spannung (V)\")\n",
    "    plt.plot(arr[:samples])\n",
    "    plt.savefig(name + \".png\", dpi=900)\n",
    "    plt.show()\n",
    "\n",
    "\n",
    "main()\n"
   ]
  },
  {
   "cell_type": "markdown",
   "id": "4b9530f6",
   "metadata": {},
   "source": [
    "## Aufgabe 3"
   ]
  },
  {
   "cell_type": "code",
   "execution_count": null,
   "id": "3ab399ad",
   "metadata": {},
   "outputs": [],
   "source": []
  },
  {
   "cell_type": "markdown",
   "id": "78a0dd8a",
   "metadata": {},
   "source": [
    "## Aufgabe 4"
   ]
  },
  {
   "cell_type": "code",
   "execution_count": null,
   "id": "4024c441",
   "metadata": {},
   "outputs": [],
   "source": []
  }
 ],
 "metadata": {
  "kernelspec": {
   "display_name": "Python 3 (ipykernel)",
   "language": "python",
   "name": "python3"
  },
  "language_info": {
   "codemirror_mode": {
    "name": "ipython",
    "version": 3
   },
   "file_extension": ".py",
   "mimetype": "text/x-python",
   "name": "python",
   "nbconvert_exporter": "python",
   "pygments_lexer": "ipython3",
   "version": "3.9.18"
  }
 },
 "nbformat": 4,
 "nbformat_minor": 5
}
