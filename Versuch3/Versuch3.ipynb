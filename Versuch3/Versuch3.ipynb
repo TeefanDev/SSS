{
 "cells": [
  {
   "cell_type": "code",
   "execution_count": 1,
   "id": "65072adc",
   "metadata": {},
   "outputs": [],
   "source": [
    "import csv\n",
    "import math\n",
    "\n",
    "import matplotlib.pyplot as plt\n",
    "import numpy as np\n",
    "import scipy"
   ]
  },
  {
   "cell_type": "markdown",
   "id": "8d420d74",
   "metadata": {},
   "source": [
    "# Versuch 3 Fourieranalyse und Akustik"
   ]
  },
  {
   "cell_type": "markdown",
   "id": "5f50f964",
   "metadata": {},
   "source": [
    "## Aufgabe 1 Bestimmung der Tonhöhe eines akustischen Signals"
   ]
  },
  {
   "cell_type": "markdown",
   "id": "ff3565b1",
   "metadata": {},
   "source": [
    "### Auslesen aus Oszi"
   ]
  },
  {
   "cell_type": "code",
   "execution_count": null,
   "id": "a7825bc0",
   "metadata": {},
   "outputs": [],
   "source": []
  },
  {
   "cell_type": "markdown",
   "id": "43e7526d",
   "metadata": {},
   "source": [
    "### Mehrere Perioden abbilden"
   ]
  },
  {
   "cell_type": "code",
   "execution_count": null,
   "id": "2f101af0",
   "metadata": {},
   "outputs": [],
   "source": [
    "muha_signal_ms = []\n",
    "muha_signal_mV = []\n",
    "\n",
    "with open(\"./first_tone.csv\") as csvfile:\n",
    "    messung = list(csv.reader(csvfile, delimiter=';'))\n",
    "\n",
    "    for i in range(3, len(messung)):\n",
    "        row = messung[i]\n",
    "        row[0] = float(row[0].replace(\",\", \".\"))\n",
    "        row[1] = float(row[1].replace(\",\", \".\"))\n",
    "        if -20 > row[0] > -25:\n",
    "            muha_signal_ms.append(row[0])\n",
    "            muha_signal_mV.append(row[1])\n",
    "\n",
    "# plt.plot(muha_signal_ms, muha_signal_mV)\n",
    "# plt.grid()\n",
    "# plt.show()\n",
    "\n",
    "fourier = np.fft.fft(muha_signal_mV)\n",
    "\n",
    "plt.title('Fouriertransform')\n",
    "plt.ylabel('Amplitude')\n",
    "plt.xlabel('Frequenz(kHz)')\n",
    "plt.grid(True)\n",
    "\n",
    "f = []\n",
    "for index in range(0, len(fourier), 1):\n",
    "    f.append(index / (len(fourier) * 0.000_005) / 1000)\n",
    "f = np.array(f)\n",
    "\n",
    "plt.xlim(0, len(fourier) / 1000)\n",
    "# plt.ylim(0, 25_000)\n",
    "plt.xticks(np.arange(0, 10, 0.7))\n",
    "\n",
    "plt.plot(f[:len(f) // 2], np.abs(fourier[:len(fourier) // 2]))\n",
    "plt.savefig('Transformed.png', dpi=900)\n",
    "plt.show()\n",
    "\n"
   ]
  },
  {
   "cell_type": "markdown",
   "id": "7f9f6dc1",
   "metadata": {},
   "source": [
    "### Grundperiode (ms), Grundfrequenz (Hz), Signaldauer (s), Abstandsfrequenz (Hz), Signallänge M, Abstandsintervall (delta t) (s)"
   ]
  },
  {
   "cell_type": "code",
   "execution_count": null,
   "id": "cabd8cd7",
   "metadata": {},
   "outputs": [],
   "source": []
  },
  {
   "cell_type": "markdown",
   "id": "30be7dce",
   "metadata": {},
   "source": [
    "### Fourriertransformation"
   ]
  },
  {
   "cell_type": "code",
   "execution_count": null,
   "id": "a109273a",
   "metadata": {},
   "outputs": [],
   "source": []
  },
  {
   "cell_type": "markdown",
   "id": "1b1034c0",
   "metadata": {},
   "source": [
    "### Grundfrequenz im Spektrum. Welche Amplitude hat die Fouriertransformation?"
   ]
  },
  {
   "cell_type": "code",
   "execution_count": null,
   "id": "5fa92797",
   "metadata": {},
   "outputs": [],
   "source": []
  },
  {
   "cell_type": "markdown",
   "id": "66b2b616",
   "metadata": {},
   "source": [
    "## Aufgabe 2 Frequenzen von Lautsprechern"
   ]
  },
  {
   "cell_type": "markdown",
   "id": "d70f6127",
   "metadata": {},
   "source": [
    "### Übertragen der Daten"
   ]
  },
  {
   "cell_type": "code",
   "execution_count": null,
   "id": "9bd0c706",
   "metadata": {},
   "outputs": [],
   "source": [
    "# Frequenz, Amplitude in mV, Phasenverschiebung in ms\n",
    "bigSpeaker = np.array([[100, 96.53, 5.451, 1.5], [200, 118.3, 4.988, 1.5], [300, 61.61, 0.281, 1.5], [400, 46.59, 0.376, 1.497],\n",
    "                       [500, 37.32, 0.321, 1.494], [700, 30.61, 0.233, 1.5], [850, 29.75, 0.219, 1.523], [1000, 28.88, 0.185, 1.535],\n",
    "                       [1200, 28.1, 0.192, 1.524], [1500, 26.89, 0.177, 1.5], [1700, 28.19, 0.162, 1.52], [2000, 26.8, 0.158, 1.5],\n",
    "                       [3000, 19.92, 1.40, 1.5], [4000, 40.79, 0.143, 1.501], [5000, 27.84, 0.151, 1.503], [6000, 25.67, 0.131, 1.5],\n",
    "                       [10000, 22.43, 0.048, 1.496]])\n",
    "\n",
    "smallSpeaker = np.array([[100, 10.91, 4.007, 1.5], [200, 24.94, 3.163, 1.5], [300, 39.75, 2.34, 1.5], [400, 93.24, 1.986, 1.5],\n",
    "                         [500, 126.4, 0.088, 1.5], [700, 57.54, 0.213, 1.5], [850, 45.42, 0.242, 1.5], [1000, 37.02, 0.223, 1.5],\n",
    "                         [1200, 28.02, 0.199, 1.493], [1500, 36.85, 0.174, 1.5], [1700, 32.91, 0.174, 1.5], [2000, 33.6, 0.168, 1.5],\n",
    "                         [3000, 27.97, 0.153, 1.5], [4000, 14.24, 0.132, 1.5], [5000, 33.34, 0.162, 1.5], [6000, 14.24, 0.114, 1.501],\n",
    "                         [10000, 16.45, 0.046, 1.5]])\n",
    "\n",
    "\n",
    "def plotBodeDiagramm(speaker, plotTitle, fileName):\n",
    "    freq = speaker[:, :1]  # * 2 * np.pi\n",
    "    phase = (speaker[:, 2:3] / -1000) * speaker[:, :1] * 360\n",
    "    amp = speaker[:, 1:2] / 1000\n",
    "    ampin = speaker[:, 3:4]\n",
    "    # Amplitudengang berechnen\n",
    "    ampdiv = amp / ampin\n",
    "\n",
    "    plt.figure()\n",
    "    plt.subplot(211)\n",
    "    plt.title('Bode Diagram ' + plotTitle)\n",
    "    plt.xlabel('Frequenz (Hz)')\n",
    "    plt.ylabel('Amplitude (dB)')\n",
    "    plt.semilogx(freq, 20 * np.log10(abs(ampdiv)))\n",
    "    # plt.xlim(speaker[0,0] * 2 * np.pi, speaker[16,0] * 2 * np.pi)\n",
    "    plt.xlim(speaker[0, 0], speaker[16, 0])\n",
    "    plt.grid()\n",
    "\n",
    "    plt.subplot(212)\n",
    "    plt.xlabel('Frequenz (Hz)')\n",
    "    plt.ylabel('Phasenwinkel')\n",
    "    plt.semilogx(freq, phase)\n",
    "    # plt.xlim(speaker[0,0] * 2 * np.pi, speaker[16,0] * 2 * np.pi)\n",
    "    plt.xlim(speaker[0, 0], speaker[16, 0])\n",
    "    plt.grid()\n",
    "\n",
    "    plt.show\n",
    "    plt.savefig('BodeDiagramm' + fileName + '.png', dpi=900)\n",
    "\n",
    "\n",
    "def plotReadings(speaker, plotTitle, fileName):\n",
    "    freq = speaker[:, :1]\n",
    "    phase = speaker[:, 2:3]\n",
    "    amp = speaker[:, 1:2]\n",
    "\n",
    "    plt.figure()\n",
    "    plt.subplot(211)\n",
    "    plt.title('Messungen ' + plotTitle)\n",
    "    plt.xlabel('Frequenz (Hz)')\n",
    "    plt.ylabel('Amplitude (mV)')\n",
    "    plt.plot(freq, amp)\n",
    "    plt.xlim(speaker[0, 0], speaker[16, 0])\n",
    "    plt.grid()\n",
    "\n",
    "    plt.subplot(212)\n",
    "    plt.xlabel('Frequenz (Hz)')\n",
    "    plt.ylabel('Phase (ms)')\n",
    "    plt.plot(freq, phase)\n",
    "    plt.xlim(speaker[0, 0], speaker[16, 0])\n",
    "    plt.grid()\n",
    "\n",
    "    plt.show\n",
    "    plt.savefig('Messungen' + fileName + '.png', dpi=900)\n",
    "\n",
    "\n",
    "plotBodeDiagramm(bigSpeaker, \"Big Speaker\", \"BigSpeaker\")\n",
    "plotBodeDiagramm(smallSpeaker, \"Small Speaker\", \"SmallSpeaker\")\n",
    "plotReadings(bigSpeaker, \"Big Speaker\", \"BigSpeaker\")\n",
    "plotReadings(smallSpeaker, \"Small Speaker\", \"SmallSpeaker\")"
   ]
  },
  {
   "cell_type": "markdown",
   "id": "bc0f1d37",
   "metadata": {},
   "source": [
    "### Bode Diagramm"
   ]
  },
  {
   "cell_type": "code",
   "execution_count": null,
   "id": "55f6e390",
   "metadata": {},
   "outputs": [],
   "source": []
  }
 ],
 "metadata": {
  "kernelspec": {
   "display_name": "Python 3 (ipykernel)",
   "language": "python",
   "name": "python3"
  },
  "language_info": {
   "codemirror_mode": {
    "name": "ipython",
    "version": 3
   },
   "file_extension": ".py",
   "mimetype": "text/x-python",
   "name": "python",
   "nbconvert_exporter": "python",
   "pygments_lexer": "ipython3",
   "version": "3.9.18"
  }
 },
 "nbformat": 4,
 "nbformat_minor": 5
}
